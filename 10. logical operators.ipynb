{
 "cells": [
  {
   "cell_type": "code",
   "execution_count": 6,
   "metadata": {},
   "outputs": [
    {
     "name": "stdout",
     "output_type": "stream",
     "text": [
      "its bad temperature today\n",
      "stay inside\n"
     ]
    }
   ],
   "source": [
    "# logical operator (and,or) = used to check if two or conditional statements is true\n",
    "\n",
    "temp = int(input(\"What is the temperature outside?\"))\n",
    "\n",
    "if temp>=0 and temp<=30 : # both coditions needs to be true , to below conditions to execute\n",
    "    print(\"it's a nice temperature\")\n",
    "    print(\"let's go outside today \")\n",
    "\n",
    "elif temp<0 or temp>30 : # any one coditions needs to be true , to below conditions to execute   \n",
    "    print(\"its bad temperature today\")\n",
    "    print(\"stay inside\")\n"
   ]
  },
  {
   "cell_type": "code",
   "execution_count": 8,
   "metadata": {},
   "outputs": [
    {
     "name": "stdout",
     "output_type": "stream",
     "text": [
      "its bad temperature today\n",
      "stay inside\n"
     ]
    }
   ],
   "source": [
    "# logical operator (and,or) = used to check if two or conditional statements is true\n",
    "\n",
    "temp = int(input(\"What is the temperature outside?\"))\n",
    "\n",
    "if not(temp>=0 and temp<=30) : # both coditions needs to be true , to below conditions to execute\n",
    "   print(\"its bad temperature today\")\n",
    "   print(\"stay inside\")\n",
    "\n",
    "\n",
    "elif not(temp<0 or temp>30) : # any one coditions needs to be true , to below conditions to execute   \n",
    "    print(\"it's a nice temperature\")\n",
    "    print(\"let's go outside today \")\n",
    "    "
   ]
  }
 ],
 "metadata": {
  "kernelspec": {
   "display_name": "Python 3",
   "language": "python",
   "name": "python3"
  },
  "language_info": {
   "codemirror_mode": {
    "name": "ipython",
    "version": 3
   },
   "file_extension": ".py",
   "mimetype": "text/x-python",
   "name": "python",
   "nbconvert_exporter": "python",
   "pygments_lexer": "ipython3",
   "version": "3.10.6 (main, Nov 14 2022, 16:10:14) [GCC 11.3.0]"
  },
  "orig_nbformat": 4,
  "vscode": {
   "interpreter": {
    "hash": "916dbcbb3f70747c44a77c7bcd40155683ae19c65e1c03b4aa3499c5328201f1"
   }
  }
 },
 "nbformat": 4,
 "nbformat_minor": 2
}
