{
 "cells": [
  {
   "cell_type": "code",
   "execution_count": null,
   "metadata": {},
   "outputs": [],
   "source": [
    "# while loop : a statement that will execute it's block of code,\n",
    "            # as long as it's condition remains true\n",
    "\n",
    "# infinite loop : this froze my lape\n",
    "while 1==1:\n",
    "    print(\"help ! i am stuck in a loop \")"
   ]
  },
  {
   "cell_type": "code",
   "execution_count": 2,
   "metadata": {},
   "outputs": [
    {
     "name": "stdout",
     "output_type": "stream",
     "text": [
      "Hello ram\n"
     ]
    }
   ],
   "source": [
    "# code to ask user for name infinitely until he types his name\n",
    "name = \"\"\n",
    "while len(name) ==0:\n",
    "    name=input(\"Enter your name:\")\n",
    "print(\"Hello\"+\" \"+name)    \n"
   ]
  },
  {
   "cell_type": "code",
   "execution_count": 3,
   "metadata": {},
   "outputs": [
    {
     "name": "stdout",
     "output_type": "stream",
     "text": [
      "Hello ram\n"
     ]
    }
   ],
   "source": [
    "# same code as above\n",
    "\n",
    "name = None\n",
    "while not name :\n",
    "    name =input(\" Enter the name \")\n",
    "print(\"Hello\"+\" \"+name)    "
   ]
  }
 ],
 "metadata": {
  "kernelspec": {
   "display_name": "Python 3",
   "language": "python",
   "name": "python3"
  },
  "language_info": {
   "codemirror_mode": {
    "name": "ipython",
    "version": 3
   },
   "file_extension": ".py",
   "mimetype": "text/x-python",
   "name": "python",
   "nbconvert_exporter": "python",
   "pygments_lexer": "ipython3",
   "version": "3.10.6"
  },
  "orig_nbformat": 4,
  "vscode": {
   "interpreter": {
    "hash": "916dbcbb3f70747c44a77c7bcd40155683ae19c65e1c03b4aa3499c5328201f1"
   }
  }
 },
 "nbformat": 4,
 "nbformat_minor": 2
}
