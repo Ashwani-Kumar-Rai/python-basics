{
 "cells": [
  {
   "cell_type": "code",
   "execution_count": null,
   "metadata": {},
   "outputs": [],
   "source": [
    "# for loop = a statement that will execute its block of code\n",
    "            # a limited amount of time\n",
    "\n",
    "            # while loop = unlimited\n",
    "            # for loop = limited\n",
    "# using for loop we can iterate through that is iterable            \n",
    "\n",
    "for i in range(10): # will print from 1 to 10\n",
    "    print(i+1)            \n"
   ]
  },
  {
   "cell_type": "code",
   "execution_count": null,
   "metadata": {},
   "outputs": [],
   "source": [
    "for i in range(50,100): # will print from 50 to 99 (first number: inclusive second number: exclusive )\n",
    "    print(i)"
   ]
  },
  {
   "cell_type": "code",
   "execution_count": null,
   "metadata": {},
   "outputs": [],
   "source": [
    "for i in range(50,100+1): # will print from 50 to 100 (first number: inclusive second number: exclusive )\n",
    "    print(i)"
   ]
  },
  {
   "cell_type": "code",
   "execution_count": null,
   "metadata": {},
   "outputs": [],
   "source": [
    "# we can use the third argument that is step (count up or down)\n",
    "for i in range(50,100+1,2):\n",
    "    print(i) # 50  52 .....100"
   ]
  },
  {
   "cell_type": "code",
   "execution_count": 7,
   "metadata": {},
   "outputs": [
    {
     "name": "stdout",
     "output_type": "stream",
     "text": [
      "s\n",
      "h\n",
      "y\n",
      "a\n",
      "m\n",
      " \n",
      "p\n",
      "r\n",
      "a\n",
      "t\n",
      "a\n",
      "p\n"
     ]
    }
   ],
   "source": [
    "# using for loop we can iterate through that is iterable  : string is iterable\n",
    "for i in \"shyam pratap\":\n",
    "    print(i)\n",
    "    "
   ]
  },
  {
   "cell_type": "code",
   "execution_count": 8,
   "metadata": {},
   "outputs": [
    {
     "name": "stdout",
     "output_type": "stream",
     "text": [
      "10\n",
      "9\n",
      "8\n",
      "7\n",
      "6\n",
      "5\n",
      "4\n",
      "3\n",
      "2\n",
      "1\n",
      "Happy new year\n"
     ]
    }
   ],
   "source": [
    "# count-down\n",
    "import time # in python standard library\n",
    "for seconds in range(10,0,-1): #starting at 10 ending at 0 count downwards by 1\n",
    "    print(seconds)\n",
    "    time.sleep(1) # 1 seconds\n",
    "print(\"Happy new year\")        "
   ]
  }
 ],
 "metadata": {
  "kernelspec": {
   "display_name": "Python 3",
   "language": "python",
   "name": "python3"
  },
  "language_info": {
   "codemirror_mode": {
    "name": "ipython",
    "version": 3
   },
   "file_extension": ".py",
   "mimetype": "text/x-python",
   "name": "python",
   "nbconvert_exporter": "python",
   "pygments_lexer": "ipython3",
   "version": "3.10.6"
  },
  "orig_nbformat": 4,
  "vscode": {
   "interpreter": {
    "hash": "916dbcbb3f70747c44a77c7bcd40155683ae19c65e1c03b4aa3499c5328201f1"
   }
  }
 },
 "nbformat": 4,
 "nbformat_minor": 2
}
