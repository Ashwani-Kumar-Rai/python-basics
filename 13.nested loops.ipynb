{
 "cells": [
  {
   "cell_type": "code",
   "execution_count": 3,
   "metadata": {},
   "outputs": [
    {
     "name": "stdout",
     "output_type": "stream",
     "text": [
      "%%%%%\n",
      "%%%%%\n",
      "%%%%%\n",
      "%%%%%\n"
     ]
    }
   ],
   "source": [
    "# nested loop : the inner loop will finish all of its iteration \n",
    "                # before finishing  one iteration of the \"outer loop\"\n",
    "\n",
    "rows = int(input(\"How many rows? :\"))\n",
    "cols = int(input(\"How many cols? :\"))\n",
    "symbol = input(\"enter a symbol to use \")\n",
    "\n",
    "for i in range(rows): # outer loop will iterate as many times as we have rows\n",
    "    for j in range(cols): # inner loop will iterate as many times as we have cols\n",
    "        print(symbol,end=\"\")# end=\"\" : will prevent our cursor from moving down to the next line\n",
    "    print()      # It will leave a blank line in the output : like next line\n",
    "\n"
   ]
  }
 ],
 "metadata": {
  "kernelspec": {
   "display_name": "Python 3",
   "language": "python",
   "name": "python3"
  },
  "language_info": {
   "codemirror_mode": {
    "name": "ipython",
    "version": 3
   },
   "file_extension": ".py",
   "mimetype": "text/x-python",
   "name": "python",
   "nbconvert_exporter": "python",
   "pygments_lexer": "ipython3",
   "version": "3.10.6"
  },
  "orig_nbformat": 4,
  "vscode": {
   "interpreter": {
    "hash": "916dbcbb3f70747c44a77c7bcd40155683ae19c65e1c03b4aa3499c5328201f1"
   }
  }
 },
 "nbformat": 4,
 "nbformat_minor": 2
}
