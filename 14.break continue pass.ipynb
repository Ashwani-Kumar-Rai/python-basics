{
 "cells": [
  {
   "cell_type": "code",
   "execution_count": 2,
   "metadata": {},
   "outputs": [],
   "source": [
    "# Loop control statements = change a loops execution from its normal sequence\n",
    "\n",
    "# Break = used to terminate loop entirely\n",
    "# Continue = skips to the next iteration of the loop \n",
    "# Pass = does nothing , acts as a placeholder\n",
    "\n",
    "#Break\n",
    "while True:\n",
    "    name=input(\"Enter your name :\")\n",
    "    if name != \"\":\n",
    "        break "
   ]
  },
  {
   "cell_type": "code",
   "execution_count": 4,
   "metadata": {},
   "outputs": [
    {
     "name": "stdout",
     "output_type": "stream",
     "text": [
      "1234567890"
     ]
    }
   ],
   "source": [
    "# continue\n",
    "    #display number without - symbol\n",
    "phone_number = \"123-456-7890\"\n",
    "for i in phone_number:\n",
    "    if i == '-':\n",
    "        continue\n",
    "    print(i,end=\"\") # end=\"\" : will prevent our cursor from moving down to the next line"
   ]
  },
  {
   "cell_type": "code",
   "execution_count": 6,
   "metadata": {},
   "outputs": [
    {
     "name": "stdout",
     "output_type": "stream",
     "text": [
      "12345678910111214151617181920"
     ]
    }
   ],
   "source": [
    "# pass\n",
    "\n",
    "# if i am superstitious and i don't want to print 13\n",
    "for i in range(1,21):\n",
    "    if i==13:\n",
    "        pass\n",
    "    else:\n",
    "        print(i,end=\"\") # output does not have 13 we have skipped it  , in if   \n"
   ]
  }
 ],
 "metadata": {
  "kernelspec": {
   "display_name": "Python 3",
   "language": "python",
   "name": "python3"
  },
  "language_info": {
   "codemirror_mode": {
    "name": "ipython",
    "version": 3
   },
   "file_extension": ".py",
   "mimetype": "text/x-python",
   "name": "python",
   "nbconvert_exporter": "python",
   "pygments_lexer": "ipython3",
   "version": "3.10.6"
  },
  "orig_nbformat": 4,
  "vscode": {
   "interpreter": {
    "hash": "916dbcbb3f70747c44a77c7bcd40155683ae19c65e1c03b4aa3499c5328201f1"
   }
  }
 },
 "nbformat": 4,
 "nbformat_minor": 2
}
