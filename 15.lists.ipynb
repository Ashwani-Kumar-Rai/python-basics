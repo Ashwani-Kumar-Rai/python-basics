{
 "cells": [
  {
   "cell_type": "code",
   "execution_count": 7,
   "metadata": {},
   "outputs": [
    {
     "name": "stdout",
     "output_type": "stream",
     "text": [
      "['pizza', 'hotdog', 'hand burgar']\n",
      "pizza\n",
      "['sushi', 'hotdog', 'hand burgar']\n",
      "sushi\n",
      "hotdog\n",
      "hand burgar\n"
     ]
    }
   ],
   "source": [
    "# lists : used to store multiple items in a single variable\n",
    "# you can change the list after you have declared it\n",
    "\n",
    "food=[\"pizza\",\"hotdog\",\"hand burgar\"] #  each item in the list is called element\n",
    "print(food)\n",
    "print(food[0])\n",
    "# print(food[3]) # index out of range error\n",
    "\n",
    "food[0]=\"sushi\"\n",
    "print(food)\n",
    "\n",
    "for x in food:\n",
    "    print(x)"
   ]
  },
  {
   "cell_type": "code",
   "execution_count": 14,
   "metadata": {},
   "outputs": [
    {
     "name": "stdout",
     "output_type": "stream",
     "text": [
      "['pizza', 'hotdog', 'hand burgar', 'ice cream']\n",
      "['pizza', 'hand burgar', 'ice cream']\n",
      "['pizza', 'hand burgar']\n",
      "['cake', 'pizza', 'hand burgar']\n",
      "['cake', 'hand burgar', 'pizza']\n"
     ]
    }
   ],
   "source": [
    "# usefull functions of list\n",
    "food=[\"pizza\",\"hotdog\",\"hand burgar\"] \n",
    "\n",
    "food.append(\"ice cream\") # append : add at the end\n",
    "print(food)\n",
    "\n",
    "food.remove(\"hotdog\") # remove : a specific element\n",
    "print(food)\n",
    "\n",
    "food.pop() # pop: delete from the end\n",
    "print(food)\n",
    "\n",
    "food.insert(0,\"cake\") # insert : at index zero we have cake\n",
    "print(food)\n",
    "\n",
    "food.sort() # sort : will sort the elements alphabetically\n",
    "print(food)\n",
    "\n",
    "food.clear() # clear() : will delete all the elements from the list , so nothing will get printed\n",
    "print(food)"
   ]
  }
 ],
 "metadata": {
  "kernelspec": {
   "display_name": "Python 3",
   "language": "python",
   "name": "python3"
  },
  "language_info": {
   "codemirror_mode": {
    "name": "ipython",
    "version": 3
   },
   "file_extension": ".py",
   "mimetype": "text/x-python",
   "name": "python",
   "nbconvert_exporter": "python",
   "pygments_lexer": "ipython3",
   "version": "3.10.6"
  },
  "orig_nbformat": 4,
  "vscode": {
   "interpreter": {
    "hash": "916dbcbb3f70747c44a77c7bcd40155683ae19c65e1c03b4aa3499c5328201f1"
   }
  }
 },
 "nbformat": 4,
 "nbformat_minor": 2
}
