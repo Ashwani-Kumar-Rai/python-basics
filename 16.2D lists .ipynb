{
 "cells": [
  {
   "cell_type": "code",
   "execution_count": 3,
   "metadata": {},
   "outputs": [
    {
     "name": "stdout",
     "output_type": "stream",
     "text": [
      "[['coffee', 'soda', 'tea'], ['pizza', 'hamburger', 'hotdog'], ['cake', 'ice cream']]\n",
      "['pizza', 'hamburger', 'hotdog']\n",
      "hotdog\n"
     ]
    }
   ],
   "source": [
    "# 2D lists  : a list of list\n",
    "drinks = [\"coffee\",\"soda\",\"tea\"]\n",
    "dinner = [\"pizza\",\"hamburger\",\"hotdog\"]\n",
    "dessert = [\"cake\",\"ice cream\"]\n",
    "\n",
    "# we can add all the above three list to another list\n",
    "food=[drinks,dinner,dessert]\n",
    "print(food)\n",
    "\n",
    "print(food[1])\n",
    "print(food[1][2])"
   ]
  }
 ],
 "metadata": {
  "kernelspec": {
   "display_name": "Python 3",
   "language": "python",
   "name": "python3"
  },
  "language_info": {
   "codemirror_mode": {
    "name": "ipython",
    "version": 3
   },
   "file_extension": ".py",
   "mimetype": "text/x-python",
   "name": "python",
   "nbconvert_exporter": "python",
   "pygments_lexer": "ipython3",
   "version": "3.10.6"
  },
  "orig_nbformat": 4,
  "vscode": {
   "interpreter": {
    "hash": "916dbcbb3f70747c44a77c7bcd40155683ae19c65e1c03b4aa3499c5328201f1"
   }
  }
 },
 "nbformat": 4,
 "nbformat_minor": 2
}
