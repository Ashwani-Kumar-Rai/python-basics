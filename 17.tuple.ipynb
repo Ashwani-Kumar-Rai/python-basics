{
 "cells": [
  {
   "cell_type": "code",
   "execution_count": 5,
   "metadata": {},
   "outputs": [
    {
     "name": "stdout",
     "output_type": "stream",
     "text": [
      "1\n",
      "2\n",
      "Bro\n",
      "31\n",
      "male\n",
      "Bro is present\n"
     ]
    }
   ],
   "source": [
    "# tuple :collection which is ordered and unchangable\n",
    "            # used to group together related data\n",
    "\n",
    "student= (\"Bro\",31,\"male\")\n",
    "\n",
    "# functions related to tuples\n",
    "print(student.count(\"Bro\"))\n",
    "print(student.index(\"male\"))\n",
    "\n",
    "\n",
    "# using for loop , display all the contents of the tuple\n",
    "for x in student:\n",
    "    print(x)\n",
    "\n",
    "if \"Bro\" in student:\n",
    "    print(\"Bro is present\")    \n"
   ]
  }
 ],
 "metadata": {
  "kernelspec": {
   "display_name": "Python 3",
   "language": "python",
   "name": "python3"
  },
  "language_info": {
   "codemirror_mode": {
    "name": "ipython",
    "version": 3
   },
   "file_extension": ".py",
   "mimetype": "text/x-python",
   "name": "python",
   "nbconvert_exporter": "python",
   "pygments_lexer": "ipython3",
   "version": "3.10.6"
  },
  "orig_nbformat": 4,
  "vscode": {
   "interpreter": {
    "hash": "916dbcbb3f70747c44a77c7bcd40155683ae19c65e1c03b4aa3499c5328201f1"
   }
  }
 },
 "nbformat": 4,
 "nbformat_minor": 2
}
