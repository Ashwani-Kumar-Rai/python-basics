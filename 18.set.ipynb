{
 "cells": [
  {
   "cell_type": "code",
   "execution_count": 14,
   "metadata": {},
   "outputs": [
    {
     "name": "stdout",
     "output_type": "stream",
     "text": [
      "spoon\n",
      "knife\n",
      "fork\n",
      "\n",
      "after adding napkin\n",
      "napkin\n",
      "knife\n",
      "fork\n"
     ]
    }
   ],
   "source": [
    "# set : collection which is unordered , unindexed ,  NO DUPLICATE VALUES\n",
    "# a set is faster than a list : if you need to check if something is within a set compared to a list \n",
    "\n",
    "utensils = {\"fork\",\"spoon\",\"knife\",\"knife\"} # unordered : the order changed\n",
    "dishes = {}\n",
    "for x in utensils:\n",
    "    print(x)\n",
    "\n",
    "# some set functions\n",
    "utensils.add(\"napkin\")   \n",
    "utensils.remove(\"spoon\")\n",
    "print(\"\\nafter adding napkin\")\n",
    "\n",
    "for x in utensils:\n",
    "    print(x)\n",
    "\n",
    "utensils.clear()\n"
   ]
  },
  {
   "cell_type": "code",
   "execution_count": 20,
   "metadata": {},
   "outputs": [
    {
     "name": "stdout",
     "output_type": "stream",
     "text": [
      "spoon\n",
      "cup\n",
      "fork\n",
      "bowl\n",
      "plate\n",
      "knife\n"
     ]
    }
   ],
   "source": [
    "utensils = {\"fork\",\"spoon\",\"knife\",\"knife\"} \n",
    "dishes = {\"bowl\",\"plate\",\"cup\"}\n",
    "\n",
    "# add one set to another\n",
    "utensils.update(dishes)\n",
    "\n",
    "for x in utensils:\n",
    "    print(x)"
   ]
  },
  {
   "cell_type": "code",
   "execution_count": 24,
   "metadata": {},
   "outputs": [
    {
     "name": "stdout",
     "output_type": "stream",
     "text": [
      "spoon\n",
      "cup\n",
      "fork\n",
      "bowl\n",
      "plate\n",
      "knife\n",
      "{'spoon', 'knife', 'fork'}\n",
      "{'plate'}\n"
     ]
    }
   ],
   "source": [
    "utensils = {\"fork\",\"spoon\",\"plate\",\"knife\"} \n",
    "dishes = {\"bowl\",\"plate\",\"cup\"}\n",
    "\n",
    "# join two sets to create a new set entirely\n",
    "dinner_table=utensils.union(dishes)\n",
    "\n",
    "for x in dinner_table:\n",
    "    print(x)\n",
    "\n",
    "# what utensils has that dishes doesn't : difference method\n",
    "print(utensils.difference(dishes))\n",
    "\n",
    "\n",
    "# what they have in common\n",
    "print(utensils.intersection(dishes))\n",
    "\n"
   ]
  }
 ],
 "metadata": {
  "kernelspec": {
   "display_name": "Python 3",
   "language": "python",
   "name": "python3"
  },
  "language_info": {
   "codemirror_mode": {
    "name": "ipython",
    "version": 3
   },
   "file_extension": ".py",
   "mimetype": "text/x-python",
   "name": "python",
   "nbconvert_exporter": "python",
   "pygments_lexer": "ipython3",
   "version": "3.10.6"
  },
  "orig_nbformat": 4,
  "vscode": {
   "interpreter": {
    "hash": "916dbcbb3f70747c44a77c7bcd40155683ae19c65e1c03b4aa3499c5328201f1"
   }
  }
 },
 "nbformat": 4,
 "nbformat_minor": 2
}
