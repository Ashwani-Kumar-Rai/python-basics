{
 "cells": [
  {
   "cell_type": "code",
   "execution_count": 12,
   "metadata": {},
   "outputs": [
    {
     "name": "stdout",
     "output_type": "stream",
     "text": [
      "Moscow\n",
      "None\n",
      "dict_keys(['USA', 'India', 'China', 'Russia'])\n",
      "dict_values(['washington DC', 'New Delhi', 'Bejing', 'Moscow'])\n",
      "dict_items([('USA', 'washington DC'), ('India', 'New Delhi'), ('China', 'Bejing'), ('Russia', 'Moscow')])\n",
      "USA washington DC\n",
      "India New Delhi\n",
      "China Bejing\n",
      "Russia Moscow\n",
      "USA washington DC\n",
      "India New Delhi\n",
      "China Bejing\n",
      "Russia Moscow\n",
      "Germany berlin\n",
      "USA Las Vages\n",
      "India New Delhi\n",
      "China Bejing\n",
      "Russia Moscow\n",
      "Germany berlin\n"
     ]
    }
   ],
   "source": [
    "# dictionary = A changable , unordered collection of unique  key:value pairs\n",
    "                # fast because they use hashing , allows us to create a value quickly \n",
    "\n",
    "\n",
    "# dictionary of country and capital\n",
    "capital={\n",
    "    'USA':'washington DC',\n",
    "    'India':'New Delhi',\n",
    "    'China':'Bejing',\n",
    "    'Russia':'Moscow'\n",
    "}\n",
    "\n",
    "print(capital['Russia'])\n",
    "\n",
    "#print(capital['Germany']) # it does not exist\n",
    "\n",
    "# get method of dictionary\n",
    "print(capital.get('Germany')) # it does not exist # this is a much safer way compared to above\n",
    "\n",
    "# print only the keys\n",
    "print(capital.keys())\n",
    "\n",
    "# print only the values and not the keys\n",
    "print(capital.values())\n",
    "\n",
    "# print entire dictionaries \n",
    "print(capital.items())\n",
    "\n",
    "# display all the key value pairs using a for loop\n",
    "for key,values in capital.items():\n",
    "    print(key,values)\n",
    "\n",
    "# we can change the dictionary -> using update method of dictionary\n",
    "capital.update({'Germany':'berlin'})\n",
    "\n",
    "for key,values in capital.items():\n",
    "    print(key,values)\n",
    "\n",
    "# we can update an existing key value pair\n",
    "capital.update({'USA':'Las Vages'})\n",
    "\n",
    "for key,values in capital.items():\n",
    "    print(key,values)\n",
    "\n",
    "# Remove a key value pair : pop method\n",
    "capital.pop('China')\n",
    "\n",
    "# this will clear my dictionary\n",
    "capital.clear()"
   ]
  }
 ],
 "metadata": {
  "kernelspec": {
   "display_name": "Python 3",
   "language": "python",
   "name": "python3"
  },
  "language_info": {
   "codemirror_mode": {
    "name": "ipython",
    "version": 3
   },
   "file_extension": ".py",
   "mimetype": "text/x-python",
   "name": "python",
   "nbconvert_exporter": "python",
   "pygments_lexer": "ipython3",
   "version": "3.10.6"
  },
  "orig_nbformat": 4,
  "vscode": {
   "interpreter": {
    "hash": "916dbcbb3f70747c44a77c7bcd40155683ae19c65e1c03b4aa3499c5328201f1"
   }
  }
 },
 "nbformat": 4,
 "nbformat_minor": 2
}
