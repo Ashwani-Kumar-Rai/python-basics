{
 "cells": [
  {
   "cell_type": "code",
   "execution_count": 6,
   "metadata": {},
   "outputs": [
    {
     "name": "stdout",
     "output_type": "stream",
     "text": [
      "Ram\n",
      "Hello Ram\n",
      "<class 'str'>\n"
     ]
    }
   ],
   "source": [
    "# VARIABLE\n",
    "\n",
    "# Variable : is a container for a value , It behaves as the value it contains\n",
    "\n",
    "name = \"Ram\" # A string is a seriese of characters\n",
    "\n",
    "print(name)\n",
    "\n",
    "print(\"Hello \"+name) # combining string and variable\n",
    "\n",
    "print(type(name)) # it will print the data type of the variable\n"
   ]
  },
  {
   "cell_type": "code",
   "execution_count": 13,
   "metadata": {},
   "outputs": [
    {
     "name": "stdout",
     "output_type": "stream",
     "text": [
      "pehla dusra\n"
     ]
    }
   ],
   "source": [
    "# STRING\n",
    "\n",
    "# Note : Python recommends snake case : first_name\n",
    "# Note : We can combine varibles if they are of the same data type\n",
    "\n",
    "# Variable of string data type(String : Seriese of characteres)\n",
    "\n",
    "first_name = \"pehla\"\n",
    "last_name = \"dusra\"\n",
    "\n",
    "full_name = first_name +\" \"+ last_name\n",
    "print(full_name)"
   ]
  },
  {
   "cell_type": "code",
   "execution_count": 16,
   "metadata": {},
   "outputs": [
    {
     "name": "stdout",
     "output_type": "stream",
     "text": [
      "101\n",
      "<class 'int'>\n"
     ]
    }
   ],
   "source": [
    "# INT \n",
    "# int = integer( a whole number)\n",
    "age = 100\n",
    "age+=1 # age = age + 1\n",
    "print(age)\n",
    "print(type(age))"
   ]
  },
  {
   "cell_type": "code",
   "execution_count": null,
   "metadata": {},
   "outputs": [],
   "source": [
    "# TYPE ERROR : we can not do math with string \n",
    "age = \"1\"\n",
    "age+=1\n",
    "print(age)"
   ]
  },
  {
   "cell_type": "code",
   "execution_count": 24,
   "metadata": {},
   "outputs": [
    {
     "name": "stdout",
     "output_type": "stream",
     "text": [
      "<class 'int'>\n",
      "name is 21\n"
     ]
    }
   ],
   "source": [
    "# SOLVING TYPE ERROR\n",
    "age = 21\n",
    "#print(\"name i \"+ age) TypeError: can only concatenate str (not \"int\") to str\n",
    "print(type(age))\n",
    "\n",
    "# so lets convert this int to string : by type casting\n",
    "print(\"name is \"+ str(age))\n"
   ]
  },
  {
   "cell_type": "code",
   "execution_count": 29,
   "metadata": {},
   "outputs": [
    {
     "name": "stdout",
     "output_type": "stream",
     "text": [
      "250.5\n",
      "<class 'float'>\n",
      "your height is 250.5cm\n"
     ]
    }
   ],
   "source": [
    "# FLOAT\n",
    "height = 250.5 \n",
    "print(height)\n",
    "print(type(height))\n",
    "\n",
    "print(\"your height is \"+str(height)+ \"cm\")"
   ]
  },
  {
   "cell_type": "code",
   "execution_count": 31,
   "metadata": {},
   "outputs": [
    {
     "name": "stdout",
     "output_type": "stream",
     "text": [
      "True\n",
      "<class 'bool'>\n"
     ]
    }
   ],
   "source": [
    "# BOOLEAN  = true , false\n",
    "human = True\n",
    "print(human)  \n",
    "\n",
    "print(type(human))"
   ]
  }
 ],
 "metadata": {
  "kernelspec": {
   "display_name": "Python 3",
   "language": "python",
   "name": "python3"
  },
  "language_info": {
   "codemirror_mode": {
    "name": "ipython",
    "version": 3
   },
   "file_extension": ".py",
   "mimetype": "text/x-python",
   "name": "python",
   "nbconvert_exporter": "python",
   "pygments_lexer": "ipython3",
   "version": "3.10.6"
  },
  "orig_nbformat": 4,
  "vscode": {
   "interpreter": {
    "hash": "916dbcbb3f70747c44a77c7bcd40155683ae19c65e1c03b4aa3499c5328201f1"
   }
  }
 },
 "nbformat": 4,
 "nbformat_minor": 2
}
