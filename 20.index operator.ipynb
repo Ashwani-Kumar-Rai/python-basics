{
 "cells": [
  {
   "cell_type": "code",
   "execution_count": 5,
   "metadata": {},
   "outputs": [
    {
     "name": "stdout",
     "output_type": "stream",
     "text": [
      "Ram dev\n",
      "RAM\n",
      "dev\n",
      "v\n"
     ]
    }
   ],
   "source": [
    "# index operator [] = gives access to a sequence's element (str,list,tuple) \n",
    "\n",
    "# eg consider string\n",
    "name = \"ram Dev\"\n",
    "if(name[0].islower()):\n",
    "    name = name.capitalize()\n",
    "\n",
    "print(name)    \n",
    "\n",
    "# create some substring of first Name\n",
    "first_name = name[:3].upper()\n",
    "print(first_name)\n",
    "\n",
    "# create some substring of Last Name\n",
    "last_name=name[4:].lower()\n",
    "print(last_name)\n",
    "\n",
    "last_character=name[-1]\n",
    "print(last_character)"
   ]
  }
 ],
 "metadata": {
  "kernelspec": {
   "display_name": "Python 3",
   "language": "python",
   "name": "python3"
  },
  "language_info": {
   "codemirror_mode": {
    "name": "ipython",
    "version": 3
   },
   "file_extension": ".py",
   "mimetype": "text/x-python",
   "name": "python",
   "nbconvert_exporter": "python",
   "pygments_lexer": "ipython3",
   "version": "3.10.6"
  },
  "orig_nbformat": 4,
  "vscode": {
   "interpreter": {
    "hash": "916dbcbb3f70747c44a77c7bcd40155683ae19c65e1c03b4aa3499c5328201f1"
   }
  }
 },
 "nbformat": 4,
 "nbformat_minor": 2
}
