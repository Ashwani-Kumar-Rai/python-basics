{
 "cells": [
  {
   "cell_type": "code",
   "execution_count": 4,
   "metadata": {},
   "outputs": [
    {
     "name": "stdout",
     "output_type": "stream",
     "text": [
      "Hello guys\n",
      "have a nice day\n",
      "Hello guys\n",
      "have a nice day\n",
      "Hello guys\n",
      "have a nice day\n"
     ]
    }
   ],
   "source": [
    "# function : a block of code  which is executed  only when it is called  : its also called invoking a function\n",
    "\n",
    "def hello():\n",
    "    print(\"Hello guys\")\n",
    "    print(\"have a nice day\")\n",
    "\n",
    "hello()\n",
    "hello()\n",
    "hello()"
   ]
  },
  {
   "cell_type": "code",
   "execution_count": 8,
   "metadata": {},
   "outputs": [
    {
     "name": "stdout",
     "output_type": "stream",
     "text": [
      "Hello Bro\n",
      "Hello Dude\n",
      "Hello grow\n"
     ]
    }
   ],
   "source": [
    "# we can send our function some information, and our function can do something with that information\n",
    "\n",
    "\n",
    "def hello(name):# parameters: nick name for the information recieved\n",
    "    print(\"Hello \"+name)\n",
    "\n",
    "hello(\"Bro\") # Arguments :information that you are sending to a function\n",
    "hello(\"Dude\")\n",
    "\n",
    "my_name=\"grow\"\n",
    "hello(my_name)"
   ]
  },
  {
   "cell_type": "code",
   "execution_count": 10,
   "metadata": {},
   "outputs": [
    {
     "name": "stdout",
     "output_type": "stream",
     "text": [
      "Hello bro code\n"
     ]
    }
   ],
   "source": [
    "# we should have matching number of parameters and arguments\n",
    "# multiple argument and parameters\n",
    "\n",
    "def hello(first_name,last_name):\n",
    "    print(\"Hello \"+first_name+\" \"+last_name)\n",
    "\n",
    "hello(\"bro\",\"code\")    "
   ]
  },
  {
   "cell_type": "code",
   "execution_count": 4,
   "metadata": {},
   "outputs": [
    {
     "name": "stdout",
     "output_type": "stream",
     "text": [
      "Hello bro code\n",
      "you are 21 years old\n"
     ]
    }
   ],
   "source": [
    "def hello(first_name,last_name,age):\n",
    "    print(\"Hello \"+first_name+\" \"+last_name)\n",
    "    print(\"you are \"+str(age)+\" years old\")\n",
    "\n",
    "hello(\"bro\",\"code\",21)    "
   ]
  }
 ],
 "metadata": {
  "kernelspec": {
   "display_name": "Python 3",
   "language": "python",
   "name": "python3"
  },
  "language_info": {
   "codemirror_mode": {
    "name": "ipython",
    "version": 3
   },
   "file_extension": ".py",
   "mimetype": "text/x-python",
   "name": "python",
   "nbconvert_exporter": "python",
   "pygments_lexer": "ipython3",
   "version": "3.10.6"
  },
  "orig_nbformat": 4,
  "vscode": {
   "interpreter": {
    "hash": "916dbcbb3f70747c44a77c7bcd40155683ae19c65e1c03b4aa3499c5328201f1"
   }
  }
 },
 "nbformat": 4,
 "nbformat_minor": 2
}
