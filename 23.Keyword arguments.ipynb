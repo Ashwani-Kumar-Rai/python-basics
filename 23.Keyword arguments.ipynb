{
 "cells": [
  {
   "cell_type": "code",
   "execution_count": null,
   "metadata": {},
   "outputs": [],
   "source": [
    "# keyword argument = arguments preceded by an identifier when we pass them to a function \n",
    "                    # the order of the doesn't matter , unlike positional arguments(which matter)\n",
    "                    # normally we are dealing with positional arguments\n",
    "                    # python knows the names of the arguments that our function receives\n",
    "\n",
    "\n",
    "\n"
   ]
  },
  {
   "cell_type": "code",
   "execution_count": null,
   "metadata": {},
   "outputs": [],
   "source": [
    "# positional arguments : order of the arguments matter\n",
    "\n",
    "def hello(first_name,last_name,age): # parameters\n",
    "    print(\"Hello \"+first_name+\" \"+last_name)\n",
    "    print(\"you are \"+str(age)+\" years old\")\n",
    "\n",
    "hello(\"bro\",\"code\",21)    # arguments "
   ]
  },
  {
   "cell_type": "code",
   "execution_count": null,
   "metadata": {},
   "outputs": [],
   "source": [
    "# keyword argument \n",
    "def hello(first_name,last_name,age): # parameters\n",
    "    print(\"Hello \"+first_name+\" \"+last_name)\n",
    "\n",
    "hello(last=\"bro\",middle=\"code\",first=\"bro\")    # keyword arguments  are preceded by an identifier\n",
    "                                                # the order of the argument does not matter"
   ]
  }
 ],
 "metadata": {
  "kernelspec": {
   "display_name": "Python 3",
   "language": "python",
   "name": "python3"
  },
  "language_info": {
   "name": "python",
   "version": "3.10.6 (main, Nov 14 2022, 16:10:14) [GCC 11.3.0]"
  },
  "orig_nbformat": 4,
  "vscode": {
   "interpreter": {
    "hash": "916dbcbb3f70747c44a77c7bcd40155683ae19c65e1c03b4aa3499c5328201f1"
   }
  }
 },
 "nbformat": 4,
 "nbformat_minor": 2
}
