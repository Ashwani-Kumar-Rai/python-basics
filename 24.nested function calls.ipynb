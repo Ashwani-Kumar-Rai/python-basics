{
 "cells": [
  {
   "cell_type": "code",
   "execution_count": 8,
   "metadata": {},
   "outputs": [
    {
     "name": "stdout",
     "output_type": "stream",
     "text": [
      "after float function -4.0\n",
      " after abs function 4.0\n",
      " after round function 4\n"
     ]
    }
   ],
   "source": [
    "# nested function calls = function calls inside other functions\n",
    "                           # innermost function calls are resolved first\n",
    "                            # returned value is used as argument for the next outer function\n",
    "\n",
    "num = input(\"Enter a whole positive number :\")\n",
    "num = float(num)\n",
    "print(\"after float function \" + str(num))\n",
    "\n",
    "num=abs(num) # absolute value : positive value\n",
    "print(\" after abs function \" +  str(num))\n",
    "\n",
    "num=round(num)\n",
    "print(\" after round function \" +  str(num))\n"
   ]
  },
  {
   "cell_type": "code",
   "execution_count": 10,
   "metadata": {},
   "outputs": [
    {
     "name": "stdout",
     "output_type": "stream",
     "text": [
      "3\n"
     ]
    }
   ],
   "source": [
    "# same result as above code : inner function ka result is the input of the outer function , for any depth .\n",
    "print(round(abs(float(input(\"Enter a number\")))))\n",
    "# we start with inner most function , its  output is the input of the next outer function , and so on."
   ]
  }
 ],
 "metadata": {
  "kernelspec": {
   "display_name": "Python 3",
   "language": "python",
   "name": "python3"
  },
  "language_info": {
   "codemirror_mode": {
    "name": "ipython",
    "version": 3
   },
   "file_extension": ".py",
   "mimetype": "text/x-python",
   "name": "python",
   "nbconvert_exporter": "python",
   "pygments_lexer": "ipython3",
   "version": "3.10.6"
  },
  "orig_nbformat": 4,
  "vscode": {
   "interpreter": {
    "hash": "916dbcbb3f70747c44a77c7bcd40155683ae19c65e1c03b4aa3499c5328201f1"
   }
  }
 },
 "nbformat": 4,
 "nbformat_minor": 2
}
