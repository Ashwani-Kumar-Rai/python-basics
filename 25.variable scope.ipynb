{
 "cells": [
  {
   "cell_type": "code",
   "execution_count": 3,
   "metadata": {},
   "outputs": [
    {
     "name": "stdout",
     "output_type": "stream",
     "text": [
      "code\n",
      "Bro\n"
     ]
    }
   ],
   "source": [
    "# variable scope : scope of a variable is the region that it is recognized\n",
    "                    # A variable is only available from inside the region it is created .\n",
    "                    # a global and locally scoped version of a variable can be created .\n",
    "\n",
    "name = \"Bro\" # global scope (available inside and outside functions)\n",
    "\n",
    "def display_name():\n",
    "    name = \"code\" # local scope (available  only inside this function)\n",
    "    print(name)    # will first try to search name in the local scop of the display_name function            \n",
    "\n",
    "display_name()\n",
    "print(name)"
   ]
  },
  {
   "cell_type": "code",
   "execution_count": 4,
   "metadata": {},
   "outputs": [],
   "source": [
    "# Python follows LEGB RULE\n",
    "\n",
    "        # ORDER OF USE OF VARIABLE \n",
    "# L 1:Local variabl\n",
    "# E 2:Enclosing variable\n",
    "# G 3:Global variable\n",
    "# B 4:Built-in variable "
   ]
  },
  {
   "cell_type": "code",
   "execution_count": null,
   "metadata": {},
   "outputs": [],
   "source": []
  }
 ],
 "metadata": {
  "kernelspec": {
   "display_name": "Python 3",
   "language": "python",
   "name": "python3"
  },
  "language_info": {
   "codemirror_mode": {
    "name": "ipython",
    "version": 3
   },
   "file_extension": ".py",
   "mimetype": "text/x-python",
   "name": "python",
   "nbconvert_exporter": "python",
   "pygments_lexer": "ipython3",
   "version": "3.10.6"
  },
  "orig_nbformat": 4,
  "vscode": {
   "interpreter": {
    "hash": "916dbcbb3f70747c44a77c7bcd40155683ae19c65e1c03b4aa3499c5328201f1"
   }
  }
 },
 "nbformat": 4,
 "nbformat_minor": 2
}
