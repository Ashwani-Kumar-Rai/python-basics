{
 "cells": [
  {
   "cell_type": "code",
   "execution_count": 3,
   "metadata": {},
   "outputs": [
    {
     "name": "stdout",
     "output_type": "stream",
     "text": [
      "3\n"
     ]
    }
   ],
   "source": [
    "# *args : parameter that will pack all arguments into a tuple\n",
    "        # it is useful so that a function can accept a varying amount of positional arguments\n",
    "\n",
    "def add(num1,num2):\n",
    "    sum=num1+num2\n",
    "    return sum\n",
    "\n",
    "print(add(1,2))    \n",
    "print(add(1,2,3)) # problem here 3 argument but above only 2 parameter is there    \n"
   ]
  },
  {
   "cell_type": "code",
   "execution_count": 4,
   "metadata": {},
   "outputs": [
    {
     "name": "stdout",
     "output_type": "stream",
     "text": [
      "21\n"
     ]
    }
   ],
   "source": [
    "def add(*args): # * is important not args , we can name anything \n",
    "    sum=0\n",
    "    for i in args:\n",
    "        sum+=i\n",
    "    return sum\n",
    "\n",
    " \n",
    "print(add(1,2,3,4,5,6))"
   ]
  },
  {
   "cell_type": "code",
   "execution_count": 18,
   "metadata": {},
   "outputs": [
    {
     "name": "stdout",
     "output_type": "stream",
     "text": [
      "20\n"
     ]
    }
   ],
   "source": [
    "def add(*stuff): \n",
    "    sum=0\n",
    "    # stuff[0]=0 # [ERROR] TypeError: 'tuple' object does not support item assignment  : tuple is immutable\n",
    "                    # one way to solve this is : cast it  to list\n",
    "    stuff=list(stuff)\n",
    "    stuff[0]=0\n",
    "    for i in stuff:\n",
    "        sum+=i\n",
    "      #  sum+=i  # TypeError: unsupported operand type(s) for +=: 'int' and 'list'\n",
    "    return sum\n",
    "\n",
    " \n",
    "print(add(1,2,3,4,5,6))"
   ]
  }
 ],
 "metadata": {
  "kernelspec": {
   "display_name": "Python 3",
   "language": "python",
   "name": "python3"
  },
  "language_info": {
   "codemirror_mode": {
    "name": "ipython",
    "version": 3
   },
   "file_extension": ".py",
   "mimetype": "text/x-python",
   "name": "python",
   "nbconvert_exporter": "python",
   "pygments_lexer": "ipython3",
   "version": "3.10.6"
  },
  "orig_nbformat": 4,
  "vscode": {
   "interpreter": {
    "hash": "916dbcbb3f70747c44a77c7bcd40155683ae19c65e1c03b4aa3499c5328201f1"
   }
  }
 },
 "nbformat": 4,
 "nbformat_minor": 2
}
