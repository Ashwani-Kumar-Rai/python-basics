{
 "cells": [
  {
   "cell_type": "code",
   "execution_count": null,
   "metadata": {},
   "outputs": [],
   "source": [
    "# **kwargs: parameters that will pack all the arguments into a dictionary\n",
    "            #useful so that a function can accept varying amount of keyword arguments\n",
    "              \n",
    "# its identical to args , args will accept a varying amount of positional arguments and pack them \n",
    "    # -into a tuple , kwargs will accept a varying amount of keyword arguments and pack them into a \n",
    "        # -dictionary .                "
   ]
  },
  {
   "cell_type": "code",
   "execution_count": 1,
   "metadata": {},
   "outputs": [
    {
     "ename": "TypeError",
     "evalue": "hello() got an unexpected keyword argument 'middle'",
     "output_type": "error",
     "traceback": [
      "\u001b[0;31m---------------------------------------------------------------------------\u001b[0m",
      "\u001b[0;31mTypeError\u001b[0m                                 Traceback (most recent call last)",
      "Cell \u001b[0;32mIn[1], line 4\u001b[0m\n\u001b[1;32m      1\u001b[0m \u001b[39mdef\u001b[39;00m \u001b[39mhello\u001b[39m(first,last):\n\u001b[1;32m      2\u001b[0m     \u001b[39mprint\u001b[39m(\u001b[39m\"\u001b[39m\u001b[39m hello \u001b[39m\u001b[39m\"\u001b[39m\u001b[39m+\u001b[39mfirst\u001b[39m+\u001b[39m\u001b[39m\"\u001b[39m\u001b[39m \u001b[39m\u001b[39m\"\u001b[39m\u001b[39m+\u001b[39mlast)\n\u001b[0;32m----> 4\u001b[0m hello(first\u001b[39m=\u001b[39;49m\u001b[39m\"\u001b[39;49m\u001b[39mBro\u001b[39;49m\u001b[39m\"\u001b[39;49m,middle\u001b[39m=\u001b[39;49m\u001b[39m\"\u001b[39;49m\u001b[39mdude\u001b[39;49m\u001b[39m\"\u001b[39;49m,last\u001b[39m=\u001b[39;49m\u001b[39m\"\u001b[39;49m\u001b[39mcode\u001b[39;49m\u001b[39m\"\u001b[39;49m) \u001b[39m#\u001b[39;00m\n",
      "\u001b[0;31mTypeError\u001b[0m: hello() got an unexpected keyword argument 'middle'"
     ]
    }
   ],
   "source": [
    "# ERROR   : arguments are more than parameters : To solve this use kwargs  \n",
    "def hello(first,last): # parameters\n",
    "    print(\" hello \"+first+\" \"+last)\n",
    "\n",
    "hello(first=\"Bro\",middle=\"dude\",last=\"code\") # arguments"
   ]
  },
  {
   "cell_type": "code",
   "execution_count": 2,
   "metadata": {},
   "outputs": [
    {
     "name": "stdout",
     "output_type": "stream",
     "text": [
      " hello Bro code\n"
     ]
    }
   ],
   "source": [
    "# USING Kwargs to solve the above error\n",
    "\n",
    "# first(is a key)     Bro(is a value)\n",
    "\n",
    "def hello(**kwargs): \n",
    "    print(\" hello \"+kwargs['first']+\" \"+kwargs['last'])\n",
    "\n",
    "hello(first=\"Bro\",middle=\"dude\",last=\"code\")\n",
    "\n",
    "\n",
    " "
   ]
  },
  {
   "cell_type": "code",
   "execution_count": 3,
   "metadata": {},
   "outputs": [
    {
     "name": "stdout",
     "output_type": "stream",
     "text": [
      "Hello MR Bro dude code "
     ]
    }
   ],
   "source": [
    "# lets take this a step further\n",
    "\n",
    "def hello(**kwargs): # kwargs : keyword arguments  , ** is important name can be anything  \n",
    "    print(\"Hello\",end=\" \")\n",
    "    for key,value in kwargs.items():\n",
    "        print(value,end=\" \")\n",
    "\n",
    "hello(title=\"MR\",first=\"Bro\",middle=\"dude\",last=\"code\")"
   ]
  }
 ],
 "metadata": {
  "kernelspec": {
   "display_name": "Python 3",
   "language": "python",
   "name": "python3"
  },
  "language_info": {
   "codemirror_mode": {
    "name": "ipython",
    "version": 3
   },
   "file_extension": ".py",
   "mimetype": "text/x-python",
   "name": "python",
   "nbconvert_exporter": "python",
   "pygments_lexer": "ipython3",
   "version": "3.10.6"
  },
  "orig_nbformat": 4,
  "vscode": {
   "interpreter": {
    "hash": "916dbcbb3f70747c44a77c7bcd40155683ae19c65e1c03b4aa3499c5328201f1"
   }
  }
 },
 "nbformat": 4,
 "nbformat_minor": 2
}
