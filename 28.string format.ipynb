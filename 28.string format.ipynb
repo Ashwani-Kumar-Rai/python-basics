{
 "cells": [
  {
   "cell_type": "code",
   "execution_count": 4,
   "metadata": {},
   "outputs": [
    {
     "name": "stdout",
     "output_type": "stream",
     "text": [
      "The cow jumped over the moon\n",
      "The cow jumped over the moon\n",
      "The cow jumped over the moon\n"
     ]
    }
   ],
   "source": [
    "# str.format() = optional method that gives users\n",
    "                    # more control when displaying output\n",
    "\n",
    "\n",
    "animal = \"cow\"\n",
    "item = \"moon\"\n",
    "print(\"The \" + animal + \" jumped over the \" + item) # there is a more elegent way of writing this code\n",
    "                                                    # that is using using format method aviable to strings()\n",
    "\n",
    "\n",
    "# This will produce the same output but it is written more eligently\n",
    "print(\"The {} jumped over the {}\".format(\"cow\",\"moon\"))\n",
    "print(\"The {} jumped over the {}\".format(animal,item)) # the first variable will be inserted to first location\n",
    " \n"
   ]
  },
  {
   "cell_type": "code",
   "execution_count": 5,
   "metadata": {},
   "outputs": [
    {
     "name": "stdout",
     "output_type": "stream",
     "text": [
      "The moon jumped over the cow\n"
     ]
    }
   ],
   "source": [
    "# Positional argument\n",
    "print(\"The {1} jumped over the {0}\".format(animal,item)) # roles are reversed"
   ]
  },
  {
   "cell_type": "code",
   "execution_count": 13,
   "metadata": {},
   "outputs": [
    {
     "name": "stdout",
     "output_type": "stream",
     "text": [
      "chicken is little\n"
     ]
    }
   ],
   "source": [
    "\n",
    "# Keyword arguments  \n",
    "print(\"{pet} is {size}\".format(pet=\"chicken\",size=\"little\")) # you can reverse the order of the variables\n"
   ]
  },
  {
   "cell_type": "code",
   "execution_count": 17,
   "metadata": {},
   "outputs": [
    {
     "name": "stdout",
     "output_type": "stream",
     "text": [
      "The cow jumped over the moon\n"
     ]
    }
   ],
   "source": [
    "# A More Elegent way\n",
    "animals=\"cow\"\n",
    "items=\"moon\"\n",
    "text=\"The {} jumped over the {}\"\n",
    "print(text.format(animals,items))"
   ]
  },
  {
   "cell_type": "code",
   "execution_count": 19,
   "metadata": {},
   "outputs": [
    {
     "name": "stdout",
     "output_type": "stream",
     "text": [
      "Hello,my name is Bro\n"
     ]
    }
   ],
   "source": [
    "# Add some padding to the string\n",
    "name=\"Bro\"\n",
    "print(\"Hello,my name is {}\".format(name))"
   ]
  },
  {
   "cell_type": "code",
   "execution_count": 23,
   "metadata": {},
   "outputs": [
    {
     "name": "stdout",
     "output_type": "stream",
     "text": [
      "Hello,my name is Bro       Nice to meet you\n",
      "Hello,my name is Bro       Nice to meet you\n",
      "Hello,my name is        BroNice to meet you\n",
      "Hello,my name is    Bro    Nice to meet you\n"
     ]
    }
   ],
   "source": [
    "# Adding spaces or adding padding\n",
    "\n",
    "name=\"Bro\"\n",
    "print(\"Hello,my name is {:10}Nice to meet you\".format(name)) # adding spaces\n",
    "print(\"Hello,my name is {:<10}Nice to meet you\".format(name))# left align\n",
    "print(\"Hello,my name is {:>10}Nice to meet you\".format(name)) # right align\n",
    "print(\"Hello,my name is {:^10}Nice to meet you\".format(name)) # center align"
   ]
  },
  {
   "cell_type": "code",
   "execution_count": 27,
   "metadata": {},
   "outputs": [
    {
     "name": "stdout",
     "output_type": "stream",
     "text": [
      "Hello,my name is crow      Nice to meet you\n"
     ]
    },
    {
     "ename": "KeyError",
     "evalue": "'name'",
     "output_type": "error",
     "traceback": [
      "\u001b[0;31m---------------------------------------------------------------------------\u001b[0m",
      "\u001b[0;31mKeyError\u001b[0m                                  Traceback (most recent call last)",
      "Cell \u001b[0;32mIn[27], line 6\u001b[0m\n\u001b[1;32m      4\u001b[0m \u001b[39mprint\u001b[39m(\u001b[39m\"\u001b[39m\u001b[39mHello,my name is \u001b[39m\u001b[39m{0:10}\u001b[39;00m\u001b[39mNice to meet you\u001b[39m\u001b[39m\"\u001b[39m\u001b[39m.\u001b[39mformat(name)) \u001b[39m# positional argument\u001b[39;00m\n\u001b[1;32m      5\u001b[0m \u001b[39m# FIX THIS\u001b[39;00m\n\u001b[0;32m----> 6\u001b[0m \u001b[39mprint\u001b[39m(\u001b[39m\"\u001b[39;49m\u001b[39mHello,my name is \u001b[39;49m\u001b[39m{name:10}\u001b[39;49;00m\u001b[39mNice to meet you\u001b[39;49m\u001b[39m\"\u001b[39;49m\u001b[39m.\u001b[39;49mformat(name)) \u001b[39m# keyword argument \u001b[39;00m\n",
      "\u001b[0;31mKeyError\u001b[0m: 'name'"
     ]
    }
   ],
   "source": [
    "# we can use positional argument or keyword argument with the align\n",
    "name=\"crow\"\n",
    "\n",
    "print(\"Hello,my name is {0:10}Nice to meet you\".format(name)) # positional argument\n",
    "# FIX THIS\n",
    "print(\"Hello,my name is {name:10}Nice to meet you\".format(name)) # keyword argument "
   ]
  },
  {
   "cell_type": "code",
   "execution_count": 37,
   "metadata": {},
   "outputs": [
    {
     "name": "stdout",
     "output_type": "stream",
     "text": [
      "The number pi is 4.14\n",
      "The number pi is 1,000\n",
      "The number pi is 1111101000\n",
      "The number pi is 1750\n",
      "The number pi is 3e8\n",
      "The number pi is 3E8\n",
      "The number pi is 1.000000e+03\n",
      "The number pi is 1.000000E+03\n"
     ]
    }
   ],
   "source": [
    "# how to format numbers\n",
    "number = 4.14159\n",
    "num =1000\n",
    "\n",
    "print(\"The number pi is {:.2f}\".format(number)) # first 2 digits after decimal , this will round number\n",
    "print(\"The number pi is {:,}\".format(num)) # comma at every 1000 places\n",
    "print(\"The number pi is {:b}\".format(num)) # binary representation of our number\n",
    "print(\"The number pi is {:o}\".format(num))# octal representation of our number\n",
    "print(\"The number pi is {:x}\".format(num))# hexa decimal representation of our number\n",
    "print(\"The number pi is {:X}\".format(num))# hexa decimal representation of our number\n",
    "print(\"The number pi is {:e}\".format(num))# scientifice notation representation of our number (lowercase)\n",
    "print(\"The number pi is {:E}\".format(num))# scientifice notation representation of our number (uppercase)"
   ]
  }
 ],
 "metadata": {
  "kernelspec": {
   "display_name": "Python 3",
   "language": "python",
   "name": "python3"
  },
  "language_info": {
   "codemirror_mode": {
    "name": "ipython",
    "version": 3
   },
   "file_extension": ".py",
   "mimetype": "text/x-python",
   "name": "python",
   "nbconvert_exporter": "python",
   "pygments_lexer": "ipython3",
   "version": "3.10.6"
  },
  "orig_nbformat": 4,
  "vscode": {
   "interpreter": {
    "hash": "916dbcbb3f70747c44a77c7bcd40155683ae19c65e1c03b4aa3499c5328201f1"
   }
  }
 },
 "nbformat": 4,
 "nbformat_minor": 2
}
