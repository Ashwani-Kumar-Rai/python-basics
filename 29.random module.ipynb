{
 "cells": [
  {
   "cell_type": "code",
   "execution_count": 9,
   "metadata": {},
   "outputs": [
    {
     "name": "stdout",
     "output_type": "stream",
     "text": [
      "2\n"
     ]
    }
   ],
   "source": [
    "# Random Module\n",
    "    # we are not going to create TRUE RANDOM  NUMBER\n",
    "    # we are going to create PSEUDO RANDOM NUMBER (which is close to pseudo random number)\n",
    "\n",
    "import random # we now have access to everything that random module have to offer\n",
    "\n",
    "# Generating random number between 1 to 6\n",
    "x=random.randint(1,6) # generating random integer between 1 to 6\n",
    "print(x) # we will get random number between 1 and 6\n",
    "\n"
   ]
  },
  {
   "cell_type": "code",
   "execution_count": 14,
   "metadata": {},
   "outputs": [
    {
     "name": "stdout",
     "output_type": "stream",
     "text": [
      "0.594264584836581\n"
     ]
    }
   ],
   "source": [
    "# we can generate a random floating point number too\n",
    "y=random.random()\n",
    "print(y) # random floating point number between 0 and 1"
   ]
  },
  {
   "cell_type": "code",
   "execution_count": 25,
   "metadata": {},
   "outputs": [
    {
     "name": "stdout",
     "output_type": "stream",
     "text": [
      "sizer\n"
     ]
    }
   ],
   "source": [
    "# generate a random choice from a list or collection\n",
    "myList=['rock','paper','sizer']\n",
    "z=random.choice(myList)\n",
    "print(z)"
   ]
  },
  {
   "cell_type": "code",
   "execution_count": 33,
   "metadata": {},
   "outputs": [
    {
     "name": "stdout",
     "output_type": "stream",
     "text": [
      "[1, 'jack', 3, 'ace', 9, 2, 7, 4, 6, 5, 8, 'queen', 'king']\n"
     ]
    }
   ],
   "source": [
    "# shuffle method of the random module : to shuffle a list or collection\n",
    "cards=[1,2,3,4,5,6,7,8,9 ,\"jack\",\"queen\",\"king\",\"ace\"]\n",
    "random.shuffle(cards)\n",
    "print(cards)\n"
   ]
  }
 ],
 "metadata": {
  "kernelspec": {
   "display_name": "Python 3",
   "language": "python",
   "name": "python3"
  },
  "language_info": {
   "codemirror_mode": {
    "name": "ipython",
    "version": 3
   },
   "file_extension": ".py",
   "mimetype": "text/x-python",
   "name": "python",
   "nbconvert_exporter": "python",
   "pygments_lexer": "ipython3",
   "version": "3.10.6"
  },
  "orig_nbformat": 4,
  "vscode": {
   "interpreter": {
    "hash": "916dbcbb3f70747c44a77c7bcd40155683ae19c65e1c03b4aa3499c5328201f1"
   }
  }
 },
 "nbformat": 4,
 "nbformat_minor": 2
}
