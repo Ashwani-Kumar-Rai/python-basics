{
 "cells": [
  {
   "cell_type": "code",
   "execution_count": 2,
   "metadata": {},
   "outputs": [
    {
     "name": "stdout",
     "output_type": "stream",
     "text": [
      "1.5\n"
     ]
    }
   ],
   "source": [
    "# EXCEPTION : events detected during execution that interrupts the normal flow of a program\n",
    "\n",
    "numerator = int(input(\"Enter a number to divide\"))\n",
    "denominator = int (input(\"Enter a number to divide by \"))\n",
    "result=numerator/denominator\n",
    "print(result)  # 5/0 : we cannot mathematically do\n",
    "                # this will cause an exception \n",
    "                # events detected during execution that interrupts the normal flow of a program"
   ]
  },
  {
   "cell_type": "code",
   "execution_count": 3,
   "metadata": {},
   "outputs": [
    {
     "name": "stdout",
     "output_type": "stream",
     "text": [
      "something went wrong\n"
     ]
    }
   ],
   "source": [
    "# A very basic form of exception handeling is to surround any code that we consider dangerous , as it may\n",
    "    #cause an exception by a try block \n",
    "\n",
    "try:\n",
    "    numerator = int(input(\"Enter a number to divide\"))\n",
    "    denominator = int (input(\"Enter a number to divide by \"))\n",
    "    result=numerator/denominator\n",
    "    print(result) \n",
    "except Exception:  # this will catch all sorts of exception , and it will prevent our program from being interupted\n",
    "    print(\"something went wrong\")         # and we can do something else , such as print a message\n",
    "                                            # 5/0 will give \"something went wrong\"\n",
    "                                            "
   ]
  },
  {
   "cell_type": "code",
   "execution_count": 4,
   "metadata": {},
   "outputs": [
    {
     "name": "stdout",
     "output_type": "stream",
     "text": [
      "You can't divide by zero! idiot !\n"
     ]
    }
   ],
   "source": [
    "# it is not a good practice to have a single except block , that will handle all exception \n",
    "    # its much better to first handle specific exception , we can do so by writing addition except blocks\n",
    "\n",
    "try:\n",
    "    numerator = int(input(\"Enter a number to divide\"))\n",
    "    denominator = int (input(\"Enter a number to divide by \"))\n",
    "    result=numerator/denominator\n",
    "    print(result) \n",
    "except ZeroDivisionError:\n",
    "    print(\"You can't divide by zero! idiot !\")    \n",
    "except Exception:  \n",
    "    print(\"something went wrong\") "
   ]
  },
  {
   "cell_type": "code",
   "execution_count": 5,
   "metadata": {},
   "outputs": [
    {
     "name": "stdout",
     "output_type": "stream",
     "text": [
      "Enter only numbers plz\n"
     ]
    }
   ],
   "source": [
    "# what if we divide by something that is not a number eg : 5/pizza : valueErrorException(copy name from error)\n",
    "try:\n",
    "    numerator = int(input(\"Enter a number to divide\"))\n",
    "    denominator = int (input(\"Enter a number to divide by \"))\n",
    "    result=numerator/denominator\n",
    "    print(result) \n",
    "except ZeroDivisionError:\n",
    "    print(\"You can't divide by zero! idiot !\")   \n",
    "except ValueError:\n",
    "    print(\"Enter only numbers plz\")     \n",
    "except Exception:  # write this anyway incase something unexpected happens , but first write specific exceptions\n",
    "   print(\"Enter only numbers plz\")   # and let the user know what exactly went wrong\n",
    "\n"
   ]
  },
  {
   "cell_type": "code",
   "execution_count": 8,
   "metadata": {},
   "outputs": [
    {
     "name": "stdout",
     "output_type": "stream",
     "text": [
      "division by zero\n",
      "You can't divide by zero! idiot !\n"
     ]
    }
   ],
   "source": [
    "# print name of the exception\n",
    "try:\n",
    "    numerator = int(input(\"Enter a number to divide\"))\n",
    "    denominator = int (input(\"Enter a number to divide by \"))\n",
    "    result=numerator/denominator\n",
    "    print(result) \n",
    "except ZeroDivisionError as e :\n",
    "    print(e)   \n",
    "    print(\"You can't divide by zero! idiot !\")   \n",
    "except ValueError as e :\n",
    "    print(e)     \n",
    "    print(\"Enter only numbers plz\") \n",
    "except Exception as e :  \n",
    "    print(e)\n",
    "    print(\"Enter only numbers plz\") "
   ]
  },
  {
   "cell_type": "code",
   "execution_count": 10,
   "metadata": {},
   "outputs": [
    {
     "name": "stdout",
     "output_type": "stream",
     "text": [
      "division by zero\n",
      "You can't divide by zero! idiot !\n"
     ]
    }
   ],
   "source": [
    "# you can add else statement to the end of the except block \n",
    "try:\n",
    "    numerator = int(input(\"Enter a number to divide\"))\n",
    "    denominator = int (input(\"Enter a number to divide by \"))\n",
    "    result=numerator/denominator\n",
    "    \n",
    "except ZeroDivisionError as e :\n",
    "    print(e)   \n",
    "    print(\"You can't divide by zero! idiot !\")   \n",
    "except ValueError as e :\n",
    "    print(e)     \n",
    "    print(\"Enter only numbers plz\") \n",
    "except Exception as e :  \n",
    "    print(e)\n",
    "    print(\"Enter only numbers plz\") \n",
    "else:   # if no exceptions ,then print our else statement\n",
    "    print(result)     "
   ]
  },
  {
   "cell_type": "code",
   "execution_count": 12,
   "metadata": {},
   "outputs": [
    {
     "name": "stdout",
     "output_type": "stream",
     "text": [
      "division by zero\n",
      "You can't divide by zero! idiot !\n",
      "THis will always execute\n"
     ]
    }
   ],
   "source": [
    "# finally : whether we catch an exception or not ,we will execute finally  anyways\n",
    "        # this is good for if you open the file and close with finally\n",
    "try:\n",
    "    numerator = int(input(\"Enter a number to divide\"))\n",
    "    denominator = int (input(\"Enter a number to divide by \"))\n",
    "    result=numerator/denominator\n",
    "    \n",
    "except ZeroDivisionError as e :\n",
    "    print(e)   \n",
    "    print(\"You can't divide by zero! idiot !\")   \n",
    "except ValueError as e :\n",
    "    print(e)     \n",
    "    print(\"Enter only numbers plz\") \n",
    "except Exception as e :  \n",
    "    print(e)\n",
    "    print(\"Enter only numbers plz\") \n",
    "else:   # if no exceptions ,then print our else statement\n",
    "    print(result) \n",
    "finally: \n",
    "    print(\"THis will always execute\")"
   ]
  }
 ],
 "metadata": {
  "kernelspec": {
   "display_name": "Python 3",
   "language": "python",
   "name": "python3"
  },
  "language_info": {
   "codemirror_mode": {
    "name": "ipython",
    "version": 3
   },
   "file_extension": ".py",
   "mimetype": "text/x-python",
   "name": "python",
   "nbconvert_exporter": "python",
   "pygments_lexer": "ipython3",
   "version": "3.10.6"
  },
  "orig_nbformat": 4,
  "vscode": {
   "interpreter": {
    "hash": "916dbcbb3f70747c44a77c7bcd40155683ae19c65e1c03b4aa3499c5328201f1"
   }
  }
 },
 "nbformat": 4,
 "nbformat_minor": 2
}
