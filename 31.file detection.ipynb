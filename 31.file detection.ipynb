{
 "cells": [
  {
   "cell_type": "code",
   "execution_count": 1,
   "metadata": {},
   "outputs": [
    {
     "name": "stdout",
     "output_type": "stream",
     "text": [
      "That location exists\n"
     ]
    }
   ],
   "source": [
    "import os \n",
    "\n",
    "# create a variable called path\n",
    "path=\"/home/exponential/Desktop/Python_Basics/test.txt\" \n",
    " \n",
    "#check if this location exist on my computer\n",
    "if os.path.exists(path):\n",
    "    print(\"That location exists\")\n",
    "else :\n",
    "    print(\"That location does't exist\")\n",
    "        "
   ]
  },
  {
   "cell_type": "code",
   "execution_count": null,
   "metadata": {},
   "outputs": [],
   "source": [
    "# if the location you are dealing with is a file or not\n",
    "import os \n",
    "\n",
    "\n",
    "path=\"/home/exponential/Desktop/Python_Basics/test.txt\" \n",
    " \n",
    "\n",
    "if os.path.exists(path):\n",
    "    print(\"That location exists\")\n",
    "    if os.path.isfile(path):\n",
    "        print(\"this is a file\")\n",
    "else :\n",
    "    print(\"That location does't exist\")\n",
    "        \n"
   ]
  },
  {
   "cell_type": "code",
   "execution_count": 3,
   "metadata": {},
   "outputs": [
    {
     "name": "stdout",
     "output_type": "stream",
     "text": [
      "That location does't exist\n"
     ]
    }
   ],
   "source": [
    "# if that file was a folder\n",
    "path=\"/home/exponential/Desktop/Python_Basics/folder\" \n",
    "# check if the location was a directory\n",
    "\n",
    "if os.path.exists(path):\n",
    "    print(\"That location exists\")\n",
    "    if os.path.isfile(path):\n",
    "        print(\"this is a file\")\n",
    "    elif os.path.isdir(path):\n",
    "        print(\"that is a directory\")    \n",
    "else :\n",
    "    print(\"That location does't exist\")\n",
    "\n"
   ]
  }
 ],
 "metadata": {
  "kernelspec": {
   "display_name": "Python 3",
   "language": "python",
   "name": "python3"
  },
  "language_info": {
   "codemirror_mode": {
    "name": "ipython",
    "version": 3
   },
   "file_extension": ".py",
   "mimetype": "text/x-python",
   "name": "python",
   "nbconvert_exporter": "python",
   "pygments_lexer": "ipython3",
   "version": "3.10.6"
  },
  "orig_nbformat": 4,
  "vscode": {
   "interpreter": {
    "hash": "916dbcbb3f70747c44a77c7bcd40155683ae19c65e1c03b4aa3499c5328201f1"
   }
  }
 },
 "nbformat": 4,
 "nbformat_minor": 2
}
