{
 "cells": [
  {
   "cell_type": "code",
   "execution_count": 4,
   "metadata": {},
   "outputs": [
    {
     "name": "stdout",
     "output_type": "stream",
     "text": [
      "test.txtwas moved\n"
     ]
    }
   ],
   "source": [
    "# move a file \n",
    "\n",
    "import os \n",
    "source = \"test.txt\"\n",
    "destination = \"/home/exponential/Desktop/folder/test.txt\"\n",
    "\n",
    "try:\n",
    "    if(os.path.exists(destination)):\n",
    "        print(\"there is already a file there\")\n",
    "    else:\n",
    "        os.replace(source,destination)  \n",
    "        print(source+\" was moved\")  \n",
    "except FileNotFoundError:\n",
    "    print(source+\" was not found \")    \n",
    " "
   ]
  },
  {
   "cell_type": "code",
   "execution_count": 10,
   "metadata": {},
   "outputs": [
    {
     "name": "stdout",
     "output_type": "stream",
     "text": [
      "there is already a folder there\n"
     ]
    }
   ],
   "source": [
    "# we can also move a directory\n",
    "import os \n",
    "source = \"folder\" # this folder is initially created in current directory , it moved to documents\n",
    "destination = \"/home/exponential/Documents/folder/\"\n",
    "\n",
    "try:\n",
    "    if(os.path.exists(destination)):\n",
    "        print(\"there is already a folder there\")\n",
    "    else:\n",
    "        os.replace(source,destination)  \n",
    "        print(source+\" was moved\")  \n",
    "except FileNotFoundError:\n",
    "    print(source+\" was not found \")    "
   ]
  }
 ],
 "metadata": {
  "kernelspec": {
   "display_name": "Python 3",
   "language": "python",
   "name": "python3"
  },
  "language_info": {
   "codemirror_mode": {
    "name": "ipython",
    "version": 3
   },
   "file_extension": ".py",
   "mimetype": "text/x-python",
   "name": "python",
   "nbconvert_exporter": "python",
   "pygments_lexer": "ipython3",
   "version": "3.10.6 (main, Nov 14 2022, 16:10:14) [GCC 11.3.0]"
  },
  "orig_nbformat": 4,
  "vscode": {
   "interpreter": {
    "hash": "916dbcbb3f70747c44a77c7bcd40155683ae19c65e1c03b4aa3499c5328201f1"
   }
  }
 },
 "nbformat": 4,
 "nbformat_minor": 2
}
