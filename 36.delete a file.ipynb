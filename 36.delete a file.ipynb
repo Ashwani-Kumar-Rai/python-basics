{
 "cells": [
  {
   "cell_type": "code",
   "execution_count": 1,
   "metadata": {},
   "outputs": [],
   "source": [
    "# delete a file\n",
    "import os\n",
    "\n",
    "os.remove('copy.txt') # this file 'copy.txt' was present in current directory it got deleted\n"
   ]
  },
  {
   "cell_type": "code",
   "execution_count": null,
   "metadata": {},
   "outputs": [],
   "source": [
    "# you can pass a variable called path\n",
    "\n",
    "import os\n",
    "path = \"test.txt\" # deleting a file that does not exist\n",
    "\n",
    "try:\n",
    "    os.remove(path)\n",
    "except FileNotFoundError:\n",
    "    print(\"The file was not found\")    \n"
   ]
  },
  {
   "cell_type": "code",
   "execution_count": 5,
   "metadata": {},
   "outputs": [
    {
     "name": "stdout",
     "output_type": "stream",
     "text": [
      "empty_folderwas deleated\n"
     ]
    }
   ],
   "source": [
    "import os\n",
    "path = \"empty_folder\"\n",
    "try:\n",
    "    # os.remove(path) # for deleting a file\n",
    "    os.rmdir(path)  # for deleting a folder , this will not delete a folder containing files\n",
    "except FileNotFoundError:\n",
    "    print(\"The file was not found\") \n",
    "except  PermissionError:\n",
    "    print(\"You do not have permission to delete that\")   \n",
    "else:\n",
    "    print(path+\" was deleated\")        "
   ]
  },
  {
   "cell_type": "code",
   "execution_count": 7,
   "metadata": {},
   "outputs": [
    {
     "name": "stdout",
     "output_type": "stream",
     "text": [
      "folder was deleated\n"
     ]
    }
   ],
   "source": [
    "import os\n",
    "import shutil\n",
    "path = \"folder\"\n",
    "try:\n",
    "    # os.remove(path)  # deletes a files\n",
    "    # os.rmdir(path)   # delete an empty directory\n",
    "    shutil.rmtree(path) # BE CAREFULL : delete a directory containing files\n",
    "except FileNotFoundError:\n",
    "    print(\"The file was not found\") \n",
    "except  PermissionError:\n",
    "    print(\"You do not have permission to delete that\")  \n",
    "except  OSError:\n",
    "    print(\"you cannot delete that using that function\")     \n",
    "else:\n",
    "    print(path+\" was deleated\")  "
   ]
  }
 ],
 "metadata": {
  "kernelspec": {
   "display_name": "Python 3",
   "language": "python",
   "name": "python3"
  },
  "language_info": {
   "codemirror_mode": {
    "name": "ipython",
    "version": 3
   },
   "file_extension": ".py",
   "mimetype": "text/x-python",
   "name": "python",
   "nbconvert_exporter": "python",
   "pygments_lexer": "ipython3",
   "version": "3.10.6"
  },
  "orig_nbformat": 4,
  "vscode": {
   "interpreter": {
    "hash": "916dbcbb3f70747c44a77c7bcd40155683ae19c65e1c03b4aa3499c5328201f1"
   }
  }
 },
 "nbformat": 4,
 "nbformat_minor": 2
}
