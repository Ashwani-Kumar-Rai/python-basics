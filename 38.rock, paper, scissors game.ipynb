{
 "cells": [
  {
   "cell_type": "code",
   "execution_count": 16,
   "metadata": {},
   "outputs": [
    {
     "name": "stdout",
     "output_type": "stream",
     "text": [
      "computer: rock\n",
      "player: rock\n",
      "Tie !\n",
      "computer: rock\n",
      "player: rock\n",
      "Tie !\n",
      "Bye!\n"
     ]
    }
   ],
   "source": [
    "import random # coz we need computer to pick a random choice\n",
    "\n",
    "while True:\n",
    "    choices=[\"rock\",\"paper\",\"scissors\"]\n",
    "\n",
    "    computer = random.choice(choices) \n",
    "\n",
    "    player=None\n",
    "\n",
    "    while player not in choices:\n",
    "        player =input(\"rock paper or scissors?\").lower()\n",
    "\n",
    "    if player == computer:\n",
    "        print(\"computer: \"+computer)\n",
    "        print(\"player: \"+player)\n",
    "        print(\"Tie !\")\n",
    "    elif player == \"rock\":\n",
    "        if computer == \"paper\":\n",
    "            print(\"computer: \"+computer)\n",
    "            print(\"player: \"+player)\n",
    "            print(\"You Lose!\")\n",
    "\n",
    "        if computer == \"scissors\":\n",
    "            print(\"computer: \"+computer)\n",
    "            print(\"player: \"+player)\n",
    "            print(\"You Win!\")\n",
    "\n",
    "    elif player == \"scissors\":\n",
    "        if computer == \"rock\":\n",
    "            print(\"computer: \"+computer)\n",
    "            print(\"player: \"+player)\n",
    "            print(\"You Lose!\")\n",
    "\n",
    "        if computer == \"paper\":\n",
    "            print(\"computer: \"+computer)\n",
    "            print(\"player: \"+player)\n",
    "            print(\"You Win!\")\n",
    "\n",
    "    elif player == \"paper\":\n",
    "        if computer == \"scissors\":\n",
    "            print(\"computer: \"+computer)\n",
    "            print(\"player: \"+player)\n",
    "            print(\"You Lose!\")\n",
    "\n",
    "        if computer == \"rock\":\n",
    "            print(\"computer: \"+computer)\n",
    "            print(\"player: \"+player)\n",
    "            print(\"You Win!\")\n",
    "\n",
    "    play_again=input(\"play again ? (yes/no)\").lower()\n",
    "\n",
    "    if play_again !=\"yes\":\n",
    "        break\n",
    "print(\"Bye!\")    \n",
    "\n"
   ]
  }
 ],
 "metadata": {
  "kernelspec": {
   "display_name": "Python 3",
   "language": "python",
   "name": "python3"
  },
  "language_info": {
   "codemirror_mode": {
    "name": "ipython",
    "version": 3
   },
   "file_extension": ".py",
   "mimetype": "text/x-python",
   "name": "python",
   "nbconvert_exporter": "python",
   "pygments_lexer": "ipython3",
   "version": "3.10.6"
  },
  "orig_nbformat": 4,
  "vscode": {
   "interpreter": {
    "hash": "916dbcbb3f70747c44a77c7bcd40155683ae19c65e1c03b4aa3499c5328201f1"
   }
  }
 },
 "nbformat": 4,
 "nbformat_minor": 2
}
