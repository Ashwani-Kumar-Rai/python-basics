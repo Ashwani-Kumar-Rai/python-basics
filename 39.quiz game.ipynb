{
 "cells": [
  {
   "cell_type": "code",
   "execution_count": null,
   "metadata": {},
   "outputs": [],
   "source": [
    "# skeleton of our program : a bunch of function just declared \n",
    "\n",
    "#------------------------------# just to increase the readability\n",
    "\n",
    "def new_game(): # whenever we call this it will create a new game for us \n",
    "    pass\n",
    "#------------------------------\n",
    "def check_answer():\n",
    "    pass\n",
    "#------------------------------\n",
    "def display_score():\n",
    "    pass\n",
    "#------------------------------\n",
    "def play_again():\n",
    "    pass\n",
    "#------------------------------\n"
   ]
  },
  {
   "cell_type": "code",
   "execution_count": null,
   "metadata": {},
   "outputs": [],
   "source": [
    "\n",
    "#------------------------------\n",
    "def new_game(): \n",
    "    pass\n",
    "#------------------------------\n",
    "def check_answer():\n",
    "    pass\n",
    "#------------------------------\n",
    "def display_score():\n",
    "    pass\n",
    "#------------------------------\n",
    "def play_again():\n",
    "    pass\n",
    "#------------------------------\n",
    "\n",
    "questions={ # made using dictionary\n",
    "    \"who created python?\":\"A\",# question : correct answer\n",
    "    \"what year was the python created ?\":\"B\",\n",
    "    \"python was tributed to which comedy group\":\"C\",\n",
    "    \"Is the Earth round ? \":\"A\"\n",
    "}\n"
   ]
  }
 ],
 "metadata": {
  "kernelspec": {
   "display_name": "Python 3",
   "language": "python",
   "name": "python3"
  },
  "language_info": {
   "name": "python",
   "version": "3.10.6 (main, Nov 14 2022, 16:10:14) [GCC 11.3.0]"
  },
  "orig_nbformat": 4,
  "vscode": {
   "interpreter": {
    "hash": "916dbcbb3f70747c44a77c7bcd40155683ae19c65e1c03b4aa3499c5328201f1"
   }
  }
 },
 "nbformat": 4,
 "nbformat_minor": 2
}
