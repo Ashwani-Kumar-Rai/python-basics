{
 "cells": [
  {
   "cell_type": "code",
   "execution_count": 16,
   "metadata": {},
   "outputs": [
    {
     "name": "stdout",
     "output_type": "stream",
     "text": [
      "9\n",
      "2\n",
      "Ram shyam\n",
      "RAM SHYAM\n",
      "ram shyam\n",
      "False\n",
      "False\n",
      "2\n",
      "rom shyom\n",
      "ram shyamram shyamram shyam\n"
     ]
    }
   ],
   "source": [
    "# STRING METHODS\n",
    "\n",
    "name = \"ram shyam\"\n",
    "\n",
    "\n",
    "print(len(name)) # length method -> length of string\n",
    "\n",
    "print(name.find(\"m\")) # find method -> index of character\n",
    "\n",
    "print(name.capitalize()) #  capitalize -> capitalize first character of (first word) only\n",
    "\n",
    "print(name.upper()) # upper -> whole string in upper case\n",
    "\n",
    "print(name.lower()) # lower -> whole string in lower case\n",
    "\n",
    "print(name.isdigit()) # isdigit -> will return either true or false\n",
    "\n",
    "print(name.isalpha()) # isalpha -> are these alphabetical characters(if there is space it returns false)\n",
    "\n",
    "print(name.count(\"a\")) # count -> how many a's are there\n",
    "\n",
    "print(name.replace(\"a\",\"o\")) # replace(\"taget character\",\"replace with\")\n",
    "\n",
    "print(name*3) # print string name 3 times\n",
    "\n"
   ]
  }
 ],
 "metadata": {
  "kernelspec": {
   "display_name": "Python 3",
   "language": "python",
   "name": "python3"
  },
  "language_info": {
   "codemirror_mode": {
    "name": "ipython",
    "version": 3
   },
   "file_extension": ".py",
   "mimetype": "text/x-python",
   "name": "python",
   "nbconvert_exporter": "python",
   "pygments_lexer": "ipython3",
   "version": "3.10.6 (main, Nov 14 2022, 16:10:14) [GCC 11.3.0]"
  },
  "orig_nbformat": 4,
  "vscode": {
   "interpreter": {
    "hash": "916dbcbb3f70747c44a77c7bcd40155683ae19c65e1c03b4aa3499c5328201f1"
   }
  }
 },
 "nbformat": 4,
 "nbformat_minor": 2
}
