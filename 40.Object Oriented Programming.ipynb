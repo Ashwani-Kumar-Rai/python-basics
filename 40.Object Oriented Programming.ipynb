{
 "cells": [
  {
   "cell_type": "code",
   "execution_count": null,
   "metadata": {},
   "outputs": [],
   "source": [
    "# By using programmming we can create representation of real life objects .(eg : phone ,television,snack)\n",
    "\n",
    "# Point Being :\n",
    "#  We can use programming to mimic real world objects by assigning a combination of attributes and methods \n",
    "    # Attributes = (is/has) # what an object is , has (eg : name,age,height)\n",
    "    # Methods = (actions) #  what an object can do (eg : eat ,sleep ,make youtube videos )\n",
    "\n",
    "# objects can have some combination of attributes and a method\n",
    " "
   ]
  },
  {
   "cell_type": "code",
   "execution_count": null,
   "metadata": {},
   "outputs": [],
   "source": [
    "# In order to create an object , we need to creat a class \n",
    "    # Class : functions as a blueprint ,that describes what attributes and methods ,that a distinct type \n",
    "        #-of object will have\n",
    "         "
   ]
  },
  {
   "cell_type": "code",
   "execution_count": null,
   "metadata": {},
   "outputs": [],
   "source": [
    "# you can either create  your class within your main module \n",
    "# or \n",
    "# you can create a file dedicated solely for your class"
   ]
  },
  {
   "cell_type": "code",
   "execution_count": null,
   "metadata": {},
   "outputs": [],
   "source": [
    "# class Car: # Naming convention : class name should start with capital\n",
    "    # pass # placeholder\n",
    "\n",
    "# if you have small class , its better to write on the main module\n",
    "# if you have a big class , its better to create a seperate module"
   ]
  },
  {
   "cell_type": "code",
   "execution_count": 26,
   "metadata": {},
   "outputs": [
    {
     "name": "stdout",
     "output_type": "stream",
     "text": [
      "chevy\n",
      "corvet\n",
      "2021\n",
      "blue\n",
      "This car is driving\n",
      "This car is stopped\n"
     ]
    }
   ],
   "source": [
    "from car40 import Car\n",
    "\n",
    "# creating objects : we need to pass the matching set of arguments\n",
    "#(unique name of the object)   = name of class (matching set of arguments)\n",
    "car_1                          = Car(\"chevy\",\"corvet\",2021,\"blue\") \n",
    "\n",
    "print(car_1.make) # car's attributes or variables\n",
    "print(car_1.model)\n",
    "print(car_1.year)\n",
    "print(car_1.color)\n",
    "\n",
    "# FIX THIS NOT WORKING\n",
    "car_1.drive() # car's methods or functions\n",
    "car_1.stop()\n"
   ]
  }
 ],
 "metadata": {
  "kernelspec": {
   "display_name": "Python 3",
   "language": "python",
   "name": "python3"
  },
  "language_info": {
   "codemirror_mode": {
    "name": "ipython",
    "version": 3
   },
   "file_extension": ".py",
   "mimetype": "text/x-python",
   "name": "python",
   "nbconvert_exporter": "python",
   "pygments_lexer": "ipython3",
   "version": "3.10.6"
  },
  "orig_nbformat": 4,
  "vscode": {
   "interpreter": {
    "hash": "916dbcbb3f70747c44a77c7bcd40155683ae19c65e1c03b4aa3499c5328201f1"
   }
  }
 },
 "nbformat": 4,
 "nbformat_minor": 2
}
