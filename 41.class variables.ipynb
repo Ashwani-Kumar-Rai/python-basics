{
 "cells": [
  {
   "cell_type": "code",
   "execution_count": 13,
   "metadata": {},
   "outputs": [
    {
     "name": "stdout",
     "output_type": "stream",
     "text": [
      "2\n",
      "This corvet is driving\n",
      "3\n",
      "2\n",
      "2\n",
      "3\n",
      "2\n"
     ]
    }
   ],
   "source": [
    "# Difference between class and instance variable\n",
    "from car40 import Car\n",
    "\n",
    "car_1 =Car(\"chevy\",\"corvet\",2021,\"blue\") # passing these values to Car constructor \n",
    "car_2 =Car(\"Ford\",\"Mustang\",2022,\"red\") \n",
    "\n",
    "print(car_1.wheels)\n",
    "car_1.drive()\n",
    "\n",
    "car_1.wheels=3\n",
    "print(car_1.wheels) \n",
    "print(car_2.wheels)\n",
    "\n",
    "\n",
    "\n",
    "# Another way to access the class variable :  you don't necessarily need an object to do so \n",
    "    #-you can just use the name of the class\n",
    "print(Car.wheels)    \n",
    "\n",
    "# what if we decide to change the class variable through class : that will effect all instances of the class\n",
    "Car.wheels=2\n",
    "print(car_1.wheels) # fix this it should be 2  \n",
    "print(car_2.wheels)\n",
    "\n"
   ]
  },
  {
   "cell_type": "code",
   "execution_count": null,
   "metadata": {},
   "outputs": [],
   "source": [
    "# INSTANCE VARIABLE : is declared inside the constructor(they can be given unique values for each object) \n",
    "# CLASS VARIABLE : is declared in the class ,but outside the constructor(same value for all objects)"
   ]
  }
 ],
 "metadata": {
  "kernelspec": {
   "display_name": "Python 3",
   "language": "python",
   "name": "python3"
  },
  "language_info": {
   "codemirror_mode": {
    "name": "ipython",
    "version": 3
   },
   "file_extension": ".py",
   "mimetype": "text/x-python",
   "name": "python",
   "nbconvert_exporter": "python",
   "pygments_lexer": "ipython3",
   "version": "3.10.6"
  },
  "orig_nbformat": 4,
  "vscode": {
   "interpreter": {
    "hash": "916dbcbb3f70747c44a77c7bcd40155683ae19c65e1c03b4aa3499c5328201f1"
   }
  }
 },
 "nbformat": 4,
 "nbformat_minor": 2
}
