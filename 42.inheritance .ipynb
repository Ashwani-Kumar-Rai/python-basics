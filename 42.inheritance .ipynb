{
 "cells": [
  {
   "cell_type": "code",
   "execution_count": 5,
   "metadata": {},
   "outputs": [
    {
     "name": "stdout",
     "output_type": "stream",
     "text": [
      "True\n",
      "This animal is eating\n",
      "This animal is sleeping\n",
      "None\n"
     ]
    }
   ],
   "source": [
    "# INHERITANCE : get (attributes,methods) from other class  \n",
    "    # A child will recieve everything that a parent class have\n",
    "\n",
    "class Animal :\n",
    "    alive =True\n",
    "\n",
    "    def eat(self):\n",
    "        print(\"This animal is eating\") \n",
    "\n",
    "    def sleep(self):\n",
    "        print(\"This animal is sleeping\")    \n",
    "\n",
    "\n",
    "# child class will inherit everything that a parent class has\n",
    "class Rabbit(Animal): # Animal is the parent class . Rabbit is the child class .          \n",
    "    pass\n",
    "class Fish(Animal):          \n",
    "    pass\n",
    "class Hawk(Animal): \n",
    "    pass\n",
    "\n",
    "rabbit=Rabbit()\n",
    "fish=Fish()\n",
    "hawk=Hawk()\n",
    "\n",
    "print(rabbit.alive)\n",
    "fish.eat()\n",
    "\n",
    "# FIGURE OUT WHY NONE \n",
    "print(hawk.sleep())"
   ]
  },
  {
   "cell_type": "code",
   "execution_count": null,
   "metadata": {},
   "outputs": [],
   "source": [
    "# BENEFIT OF INHERITANCE : we don't need to keep copying and pasting this code\n",
    "    # its better to keep all the common code in the parent class , and make changes only to parent class\n",
    "        #-and it will reflect to all the child classes \n",
    "\n",
    "# Each child class can have it's own unique methods and attributes , \n",
    "    #- and it can inherit common  methods and attributes from parents   \n",
    "       "
   ]
  },
  {
   "cell_type": "code",
   "execution_count": 7,
   "metadata": {},
   "outputs": [
    {
     "name": "stdout",
     "output_type": "stream",
     "text": [
      "This rabbit is running \n",
      "this fish is swimming\n",
      "this halk can fly\n"
     ]
    }
   ],
   "source": [
    "\n",
    "\n",
    "class Animal :\n",
    "    alive =True\n",
    "\n",
    "    def eat(self):\n",
    "        print(\"This animal is eating\") \n",
    "\n",
    "    def sleep(self):\n",
    "        print(\"This animal is sleeping\")    \n",
    "\n",
    "\n",
    "class Rabbit(Animal):        \n",
    "    def run(self):\n",
    "        print(\"This rabbit is running \")\n",
    "class Fish(Animal):          \n",
    "    def swim(self):\n",
    "        print(\"this fish is swimming\")\n",
    "class Hawk(Animal): \n",
    "    def fly(self):\n",
    "        print(\"this halk can fly\")\n",
    "\n",
    "rabbit=Rabbit()\n",
    "fish=Fish()\n",
    "hawk=Hawk()\n",
    "\n",
    "rabbit.run()\n",
    "fish.swim()\n",
    "hawk.fly()\n"
   ]
  }
 ],
 "metadata": {
  "kernelspec": {
   "display_name": "Python 3",
   "language": "python",
   "name": "python3"
  },
  "language_info": {
   "codemirror_mode": {
    "name": "ipython",
    "version": 3
   },
   "file_extension": ".py",
   "mimetype": "text/x-python",
   "name": "python",
   "nbconvert_exporter": "python",
   "pygments_lexer": "ipython3",
   "version": "3.10.6"
  },
  "orig_nbformat": 4,
  "vscode": {
   "interpreter": {
    "hash": "916dbcbb3f70747c44a77c7bcd40155683ae19c65e1c03b4aa3499c5328201f1"
   }
  }
 },
 "nbformat": 4,
 "nbformat_minor": 2
}
