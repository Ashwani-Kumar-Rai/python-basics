{
 "cells": [
  {
   "cell_type": "code",
   "execution_count": 7,
   "metadata": {},
   "outputs": [
    {
     "name": "stdout",
     "output_type": "stream",
     "text": [
      "True\n",
      "This animal is eating\n"
     ]
    }
   ],
   "source": [
    "# MULTI-LEVEL INHERITANCE : when a derived (child) class inherits another derived(child ) class\n",
    "\n",
    "# Think of multi level inheritance (family Tree) as grandfather,father,child\n",
    "\n",
    "class Organism:\n",
    "    alive=True\n",
    "\n",
    "class Animal(Organism):\n",
    "    def eat(self):\n",
    "        print(\"This animal is eating\")\n",
    "\n",
    "class Dog(Animal):\n",
    "    def bark(self):\n",
    "        print(\"This dog is barking\")        \n",
    "\n",
    "dog=Dog()\n",
    "\n",
    "print(dog.alive) \n",
    "dog.eat()\n",
    " "
   ]
  }
 ],
 "metadata": {
  "kernelspec": {
   "display_name": "Python 3",
   "language": "python",
   "name": "python3"
  },
  "language_info": {
   "codemirror_mode": {
    "name": "ipython",
    "version": 3
   },
   "file_extension": ".py",
   "mimetype": "text/x-python",
   "name": "python",
   "nbconvert_exporter": "python",
   "pygments_lexer": "ipython3",
   "version": "3.10.6"
  },
  "orig_nbformat": 4,
  "vscode": {
   "interpreter": {
    "hash": "916dbcbb3f70747c44a77c7bcd40155683ae19c65e1c03b4aa3499c5328201f1"
   }
  }
 },
 "nbformat": 4,
 "nbformat_minor": 2
}
