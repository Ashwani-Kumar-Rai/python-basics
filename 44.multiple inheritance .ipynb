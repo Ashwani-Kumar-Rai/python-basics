{
 "cells": [
  {
   "cell_type": "code",
   "execution_count": 3,
   "metadata": {},
   "outputs": [
    {
     "name": "stdout",
     "output_type": "stream",
     "text": [
      "This animal flees\n",
      "This animal is hunting\n",
      "This animal flees\n",
      "This animal is hunting\n"
     ]
    }
   ],
   "source": [
    "# MULTIPLE INHERITANCE : when a child class is derived from more than one parent class\n",
    "\n",
    "class Prey :\n",
    "    def flee(self):\n",
    "        print(\"This animal flees\")\n",
    "\n",
    "class Predator :\n",
    "    def hunt(self):\n",
    "        print(\"This animal is hunting\")\n",
    "\n",
    "\n",
    "# Some animals can be both Prey and a Predator (eg fish : fish eat smaller fish)        \n",
    "class Rabbit(Prey):\n",
    "    pass\n",
    "\n",
    "class Hawk(Predator):\n",
    "    pass\n",
    "\n",
    "class Fish(Prey,Predator): # Multiple inheritance\n",
    "    pass\n",
    "\n",
    "rabbit = Rabbit()\n",
    "hawk=Hawk()\n",
    "fish=Fish()\n",
    "\n",
    "rabbit.flee()\n",
    "hawk.hunt()\n",
    "fish.flee()\n",
    "fish.hunt()  \n",
    "\n",
    "             "
   ]
  }
 ],
 "metadata": {
  "kernelspec": {
   "display_name": "Python 3",
   "language": "python",
   "name": "python3"
  },
  "language_info": {
   "codemirror_mode": {
    "name": "ipython",
    "version": 3
   },
   "file_extension": ".py",
   "mimetype": "text/x-python",
   "name": "python",
   "nbconvert_exporter": "python",
   "pygments_lexer": "ipython3",
   "version": "3.10.6"
  },
  "orig_nbformat": 4,
  "vscode": {
   "interpreter": {
    "hash": "916dbcbb3f70747c44a77c7bcd40155683ae19c65e1c03b4aa3499c5328201f1"
   }
  }
 },
 "nbformat": 4,
 "nbformat_minor": 2
}
