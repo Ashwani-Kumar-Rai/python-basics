{
 "cells": [
  {
   "cell_type": "code",
   "execution_count": 2,
   "metadata": {},
   "outputs": [
    {
     "name": "stdout",
     "output_type": "stream",
     "text": [
      "this rabbit is eating a carrot\n"
     ]
    }
   ],
   "source": [
    "# Method overriding : provide a different implementation\n",
    "class Animal:\n",
    "    def eat(self): # method signature : method name and it's parameters \n",
    "        print(\"This animal is eating\")\n",
    "\n",
    "\n",
    "# we are going to override eat method\n",
    "class Rabbit(Animal):\n",
    "    # we are providing a different method for eat function ,instead of the inherited from base class\n",
    "    def eat(self): # Method overriding : provide a different implementation\n",
    "        print(\"this rabbit is eating a carrot\")\n",
    "rabbit = Rabbit()\n",
    "rabbit.eat()\n",
    "\n"
   ]
  }
 ],
 "metadata": {
  "kernelspec": {
   "display_name": "Python 3",
   "language": "python",
   "name": "python3"
  },
  "language_info": {
   "codemirror_mode": {
    "name": "ipython",
    "version": 3
   },
   "file_extension": ".py",
   "mimetype": "text/x-python",
   "name": "python",
   "nbconvert_exporter": "python",
   "pygments_lexer": "ipython3",
   "version": "3.10.6"
  },
  "orig_nbformat": 4,
  "vscode": {
   "interpreter": {
    "hash": "916dbcbb3f70747c44a77c7bcd40155683ae19c65e1c03b4aa3499c5328201f1"
   }
  }
 },
 "nbformat": 4,
 "nbformat_minor": 2
}
