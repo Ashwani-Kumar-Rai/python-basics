{
 "cells": [
  {
   "cell_type": "code",
   "execution_count": 1,
   "metadata": {},
   "outputs": [
    {
     "name": "stdout",
     "output_type": "stream",
     "text": [
      "you start the engine\n",
      "you drive the car\n"
     ]
    }
   ],
   "source": [
    "# calling multiple methods sequentially \n",
    "                    #- each call performs an action on the same object and returns self\n",
    "\n",
    "class Car:\n",
    "    \n",
    "    def turn_on(self):\n",
    "        print(\"you start the engine\")\n",
    "    \n",
    "    def drive(self):\n",
    "        print(\"you drive the car\")\n",
    "\n",
    "    def brake(self):\n",
    "        print(\"you step on the brakes\")\n",
    "\n",
    "    def turn_off(self):\n",
    "        print(\"you turn off the engine\")   \n",
    "\n",
    "car = Car()\n",
    "car.turn_on()\n",
    "car.drive()"
   ]
  },
  {
   "cell_type": "code",
   "execution_count": 2,
   "metadata": {},
   "outputs": [
    {
     "name": "stdout",
     "output_type": "stream",
     "text": [
      "you step on the brakes\n",
      "you turn off the engine\n"
     ]
    },
    {
     "data": {
      "text/plain": [
       "<__main__.Car at 0x7f54daf14340>"
      ]
     },
     "execution_count": 2,
     "metadata": {},
     "output_type": "execute_result"
    }
   ],
   "source": [
    "# Method chaining = We can call multiple methods sequentially\n",
    "\n",
    "# Note : If there is nothing returned ,python will return none \n",
    "\n",
    "class Car:\n",
    "    \n",
    "    def turn_on(self):\n",
    "        print(\"you start the engine\")\n",
    "        return self\n",
    "    \n",
    "    def drive(self):\n",
    "        print(\"you drive the car\")\n",
    "        return self\n",
    "\n",
    "    def brake(self):\n",
    "        print(\"you step on the brakes\")\n",
    "        return self\n",
    "\n",
    "    def turn_off(self):\n",
    "        print(\"you turn off the engine\")   \n",
    "        return self\n",
    "\n",
    "\n",
    "car = Car()\n",
    "\n",
    "car.brake().turn_off() # after calling car.brake() python will return self that is car\n",
    "                            # so it become car.turn_off()\n",
    "\n"
   ]
  },
  {
   "cell_type": "code",
   "execution_count": 6,
   "metadata": {},
   "outputs": [
    {
     "ename": "SyntaxError",
     "evalue": "unexpected character after line continuation character (1250672800.py, line 11)",
     "output_type": "error",
     "traceback": [
      "\u001b[0;36m  Cell \u001b[0;32mIn[6], line 11\u001b[0;36m\u001b[0m\n\u001b[0;31m    car.turn_on()\\\u001b[0m\n\u001b[0m                  ^\u001b[0m\n\u001b[0;31mSyntaxError\u001b[0m\u001b[0;31m:\u001b[0m unexpected character after line continuation character\n"
     ]
    }
   ],
   "source": [
    "# using all four functions\n",
    "\n",
    "car.turn_on().drive().brake().turn_off()\n",
    "\n",
    "# To improve readability\n",
    "    # after each method call just hit enter\n",
    "\n",
    "\n",
    "\n",
    "    # is a line continuation character\n",
    "car.turn_on()\\ \n",
    "    .drive()\\\n",
    "    .brake()\\\n",
    "    .turn_off()    \n"
   ]
  }
 ],
 "metadata": {
  "kernelspec": {
   "display_name": "Python 3",
   "language": "python",
   "name": "python3"
  },
  "language_info": {
   "codemirror_mode": {
    "name": "ipython",
    "version": 3
   },
   "file_extension": ".py",
   "mimetype": "text/x-python",
   "name": "python",
   "nbconvert_exporter": "python",
   "pygments_lexer": "ipython3",
   "version": "3.10.6"
  },
  "orig_nbformat": 4,
  "vscode": {
   "interpreter": {
    "hash": "916dbcbb3f70747c44a77c7bcd40155683ae19c65e1c03b4aa3499c5328201f1"
   }
  }
 },
 "nbformat": 4,
 "nbformat_minor": 2
}
