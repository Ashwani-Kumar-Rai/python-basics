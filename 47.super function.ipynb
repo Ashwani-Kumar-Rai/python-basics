{
 "cells": [
  {
   "cell_type": "code",
   "execution_count": 1,
   "metadata": {},
   "outputs": [],
   "source": [
    "# super function = function used to give access to the methods of a parent class.\n",
    "                    # Returns a temporary object of a parent class when used  \n",
    "\n",
    "\n",
    "class Rectangle:\n",
    "    pass\n",
    "class Square(Rectangle):\n",
    "    \n",
    "    def __init__(self,length,width):\n",
    "        self.length=length\n",
    "        self.width=width\n",
    "\n",
    "class Cube(Rectangle):\n",
    "    def __init__(self,length,width,height):\n",
    "        self.length=length\n",
    "        self.width=width\n",
    "        self.height=height\n",
    "\n",
    "square = Square(3,3)\n",
    "cube = Cube(3,3,3)\n"
   ]
  },
  {
   "cell_type": "code",
   "execution_count": 5,
   "metadata": {},
   "outputs": [
    {
     "name": "stdout",
     "output_type": "stream",
     "text": [
      "9\n",
      "27\n"
     ]
    }
   ],
   "source": [
    "# with programming we don't like to repeat code ,we like to re-use code\n",
    "\n",
    "class Rectangle:\n",
    "     def __init__(self,length,width): # Now we can re-use this function in the child classes\n",
    "        self.length=length\n",
    "        self.width=width\n",
    "\n",
    "class Square(Rectangle):\n",
    "    \n",
    "    def __init__(self,length,width):\n",
    "        super().__init__(length,width)\n",
    "    \n",
    "    def area(self):\n",
    "        return self.length*self.width\n",
    "\n",
    "class Cube(Rectangle):\n",
    "    def __init__(self,length,width,height):\n",
    "        super().__init__(length,width)\n",
    "        self.height=height\n",
    "    def volume(self):\n",
    "        return self.length*self.width*self.height    \n",
    "\n",
    "square = Square(3,3)\n",
    "cube = Cube(3,3,3)\n",
    "\n",
    "\n",
    "print(square.area())\n",
    "print(cube.volume())\n",
    "\n",
    "\n"
   ]
  }
 ],
 "metadata": {
  "kernelspec": {
   "display_name": "Python 3",
   "language": "python",
   "name": "python3"
  },
  "language_info": {
   "codemirror_mode": {
    "name": "ipython",
    "version": 3
   },
   "file_extension": ".py",
   "mimetype": "text/x-python",
   "name": "python",
   "nbconvert_exporter": "python",
   "pygments_lexer": "ipython3",
   "version": "3.10.6"
  },
  "orig_nbformat": 4,
  "vscode": {
   "interpreter": {
    "hash": "916dbcbb3f70747c44a77c7bcd40155683ae19c65e1c03b4aa3499c5328201f1"
   }
  }
 },
 "nbformat": 4,
 "nbformat_minor": 2
}
