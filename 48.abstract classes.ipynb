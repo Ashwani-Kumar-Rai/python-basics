{
 "cells": [
  {
   "cell_type": "code",
   "execution_count": 1,
   "metadata": {},
   "outputs": [
    {
     "name": "stdout",
     "output_type": "stream",
     "text": [
      "You drive the car\n",
      "You ride the motorcycle\n"
     ]
    }
   ],
   "source": [
    "\n",
    "# THINK OF ABSTRACT CLASS AS TEMPLATE , ITS AN IDEA , IT'S NOT REAL , IT'S LIKE A GHOST CLASS, \n",
    "  \n",
    "\n",
    "# abstract class = a class which contains one or more abstract methods.\n",
    "# abstract method = a method that has a declaration but does not have an implementation.\n",
    "\n",
    "# prevents a user from creating an object of that class\n",
    "# + compels a user to override abstract methods in a child class\n",
    "\n",
    "\n",
    "\n",
    "class Vehicle: # parent class \n",
    "\n",
    "    def go(self):\n",
    "        pass\n",
    "\n",
    "class Car(Vehicle): # clild class\n",
    "\n",
    "    def go(self): # overriding\n",
    "        print(\"You drive the car\")\n",
    "\n",
    "class Motorcycle(Vehicle):  # clild class\n",
    "\n",
    "    def go(self):# overriding\n",
    "        print(\"You ride the motorcycle\")\n",
    "\n",
    "\n",
    "vehicle = Vehicle()\n",
    "car = Car()\n",
    "motorcycle = Motorcycle()\n",
    "\n",
    "vehicle.go()\n",
    "car.go()\n",
    "motorcycle.go()\n",
    "\n",
    "\n"
   ]
  },
  {
   "cell_type": "code",
   "execution_count": 2,
   "metadata": {},
   "outputs": [
    {
     "name": "stdout",
     "output_type": "stream",
     "text": [
      "You drive the car\n",
      "You ride the motorcycle\n",
      "This car is stopped\n",
      "This motorcycle is stopped\n"
     ]
    }
   ],
   "source": [
    "# abc is an aconym for abstract base class \n",
    "# ABC is a class\n",
    "from abc import ABC, abstractmethod \n",
    "\n",
    "class Vehicle(ABC):\n",
    "\n",
    "    @abstractmethod # is a decorator  \n",
    "    def go(self):  # this decorator tells that this method is an abstract method \n",
    "        pass\n",
    "\n",
    "    @abstractmethod\n",
    "    def stop(self):  # Now both car and motercycle need to implement this method of stop\n",
    "        pass\n",
    "\n",
    "class Car(Vehicle):\n",
    "\n",
    "    def go(self):\n",
    "        print(\"You drive the car\")\n",
    "\n",
    "    def stop(self):\n",
    "        print(\"This car is stopped\")\n",
    "\n",
    "class Motorcycle(Vehicle):\n",
    "\n",
    "    def go(self):\n",
    "        print(\"You ride the motorcycle\")\n",
    "\n",
    "    def stop(self):\n",
    "        print(\"This motorcycle is stopped\")\n",
    "\n",
    "\n",
    "#vehicle = Vehicle()\n",
    "car = Car()\n",
    "motorcycle = Motorcycle()\n",
    "\n",
    "#vehicle.go()\n",
    "car.go()\n",
    "motorcycle.go()\n",
    "\n",
    "#vehicle.stop()\n",
    "car.stop()\n",
    "motorcycle.stop()\n",
    "\n",
    "#ITS ALSO A FORM OF CHECKS AND BALANCES : to be sure that your children classes are not missing \n",
    "    # -any implementations of any methods that they inherit \n",
    "\n",
    "# ADDITIONAL WAY OF THINKING THIS : our vechicle class is telling its children ,\n",
    "    #-if you are going to inherit from me , then you need to override this abstract method of mine\n",
    "        #- and if you don't ,i am not going to let you being instantiated \n",
    "\n",
    "# so inorder for us to create a car ,we need to over ride the go method that they inherit from its \n",
    "    #-parent class of vechicle . and provide its own implementation.\n"
   ]
  }
 ],
 "metadata": {
  "kernelspec": {
   "display_name": "Python 3",
   "language": "python",
   "name": "python3"
  },
  "language_info": {
   "codemirror_mode": {
    "name": "ipython",
    "version": 3
   },
   "file_extension": ".py",
   "mimetype": "text/x-python",
   "name": "python",
   "nbconvert_exporter": "python",
   "pygments_lexer": "ipython3",
   "version": "3.10.6"
  },
  "orig_nbformat": 4,
  "vscode": {
   "interpreter": {
    "hash": "916dbcbb3f70747c44a77c7bcd40155683ae19c65e1c03b4aa3499c5328201f1"
   }
  }
 },
 "nbformat": 4,
 "nbformat_minor": 2
}
