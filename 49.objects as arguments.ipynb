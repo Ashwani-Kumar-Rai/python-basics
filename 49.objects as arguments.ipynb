{
 "cells": [
  {
   "cell_type": "code",
   "execution_count": 1,
   "metadata": {},
   "outputs": [
    {
     "name": "stdout",
     "output_type": "stream",
     "text": [
      "red\n",
      "white\n",
      "blue\n"
     ]
    }
   ],
   "source": [
    "# Pass objects as arguments\n",
    "\n",
    "\n",
    "class Car:\n",
    "\n",
    "    color = None\n",
    "\n",
    "# (car)Name of the parameter that accepts our object : does't need to necessarily be same as class name\n",
    "    #-we could name this something entirely\n",
    "    \n",
    "def change_color(car,color): # parameter name should be lower case   \n",
    "    car.color = color\n",
    "\n",
    "\n",
    "car_1 = Car()\n",
    "car_2 = Car()\n",
    "car_3 = Car()\n",
    "\n",
    "\n",
    "\n",
    "change_color(car_1,\"red\")\n",
    "change_color(car_2,\"white\")\n",
    "change_color(car_3,\"blue\")\n",
    "\n",
    "\n",
    "print(car_1.color)\n",
    "print(car_2.color)\n",
    "print(car_3.color)\n"
   ]
  },
  {
   "cell_type": "code",
   "execution_count": null,
   "metadata": {},
   "outputs": [],
   "source": [
    "# Pass objects as arguments\n",
    "\n",
    "\n",
    "class Car:\n",
    "\n",
    "    color = None\n",
    "\n",
    "class Motorcycle:\n",
    "\n",
    "    color = None\n",
    "\n",
    "# re-using this function : for all kinds of vechicle \n",
    "def change_color(vehicle,color):\n",
    "    vehicle.color = color\n",
    "\n",
    "\n",
    "car_1 = Car()\n",
    "car_2 = Car()\n",
    "car_3 = Car()\n",
    "\n",
    "bike_1 = Motorcycle()\n",
    "\n",
    "change_color(car_1,\"red\")\n",
    "change_color(car_2,\"white\")\n",
    "change_color(car_3,\"blue\")\n",
    "change_color(bike_1,\"black\")\n",
    "\n",
    "print(car_1.color)\n",
    "print(car_2.color)\n",
    "print(car_3.color)\n",
    "print(bike_1.color)"
   ]
  }
 ],
 "metadata": {
  "kernelspec": {
   "display_name": "Python 3",
   "language": "python",
   "name": "python3"
  },
  "language_info": {
   "codemirror_mode": {
    "name": "ipython",
    "version": 3
   },
   "file_extension": ".py",
   "mimetype": "text/x-python",
   "name": "python",
   "nbconvert_exporter": "python",
   "pygments_lexer": "ipython3",
   "version": "3.10.6"
  },
  "orig_nbformat": 4,
  "vscode": {
   "interpreter": {
    "hash": "916dbcbb3f70747c44a77c7bcd40155683ae19c65e1c03b4aa3499c5328201f1"
   }
  }
 },
 "nbformat": 4,
 "nbformat_minor": 2
}
