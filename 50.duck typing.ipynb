{
 "cells": [
  {
   "cell_type": "code",
   "execution_count": 2,
   "metadata": {},
   "outputs": [
    {
     "name": "stdout",
     "output_type": "stream",
     "text": [
      "This duck is walking\n",
      "This duck is qwuacking\n",
      "You caught the critter!\n",
      "This chicken is walking\n",
      "This chicken is clucking\n",
      "You caught the critter!\n"
     ]
    }
   ],
   "source": [
    "# duck typing = concept where the class of an object is less important than the methods/attributes\n",
    "    #-that ,that class might have\n",
    "\n",
    "#class type is not checked if minimum methods/attributes are present\n",
    "\n",
    "#“If it walks like a duck, and it quacks like a duck, then it must be a duck.”\n",
    "\n",
    "\n",
    " \n",
    "class Duck:\n",
    "    def walk(self):\n",
    "        print(\"This duck is walking\")\n",
    "    \n",
    "    def talk(self):\n",
    "        print(\"This duck is qwuacking\")\n",
    "\n",
    "\n",
    "class Chicken:\n",
    "    def walk(self):\n",
    "        print(\"This chicken is walking\")\n",
    "\n",
    "    def talk(self):\n",
    "        print(\"This chicken is clucking\")\n",
    "\n",
    "class Person():\n",
    "\n",
    "    # in laymen terms think like : python is examining this chicken object ,its using its walk methood\n",
    "        #-its using its talk method which are required and python is saying well that's close enough\n",
    "            #-#“If it walks like a duck, and it quacks like a duck, then it must be a duck.”\n",
    "    def catch(self, duck): # duck = object as an argument\n",
    "        duck.walk()\n",
    "        duck.talk()\n",
    "        print(\"You caught the critter!\")\n",
    "\n",
    "\n",
    "duck = Duck()\n",
    "chicken = Chicken()\n",
    "person = Person()\n",
    "\n",
    "person.catch(duck)\n",
    "\n",
    "# with duck typing we can pass in a different type of object as long as it has same method and or attributes\n",
    "    #-as are duck, we can pass in a chicken \n",
    "person.catch(chicken)\n",
    "# person using catch method  : passing chicken object"
   ]
  },
  {
   "cell_type": "code",
   "execution_count": 4,
   "metadata": {},
   "outputs": [
    {
     "ename": "AttributeError",
     "evalue": "'Chicken' object has no attribute 'walk'",
     "output_type": "error",
     "traceback": [
      "\u001b[0;31m---------------------------------------------------------------------------\u001b[0m",
      "\u001b[0;31mAttributeError\u001b[0m                            Traceback (most recent call last)",
      "Cell \u001b[0;32mIn[4], line 32\u001b[0m\n\u001b[1;32m     29\u001b[0m chicken \u001b[39m=\u001b[39m Chicken()\n\u001b[1;32m     30\u001b[0m person \u001b[39m=\u001b[39m Person()\n\u001b[0;32m---> 32\u001b[0m person\u001b[39m.\u001b[39;49mcatch(chicken)\n",
      "Cell \u001b[0;32mIn[4], line 23\u001b[0m, in \u001b[0;36mPerson.catch\u001b[0;34m(self, duck)\u001b[0m\n\u001b[1;32m     22\u001b[0m \u001b[39mdef\u001b[39;00m \u001b[39mcatch\u001b[39m(\u001b[39mself\u001b[39m, duck):\n\u001b[0;32m---> 23\u001b[0m     duck\u001b[39m.\u001b[39;49mwalk()\n\u001b[1;32m     24\u001b[0m     duck\u001b[39m.\u001b[39mtalk()\n\u001b[1;32m     25\u001b[0m     \u001b[39mprint\u001b[39m(\u001b[39m\"\u001b[39m\u001b[39mYou caught the critter!\u001b[39m\u001b[39m\"\u001b[39m)\n",
      "\u001b[0;31mAttributeError\u001b[0m: 'Chicken' object has no attribute 'walk'"
     ]
    }
   ],
   "source": [
    "# duck typing = concept where the class of an object is less important than the methods/attributes\n",
    "    #-class type is not checked if minimum methods/attributes are present\n",
    "        #-“If it walks like a duck, and it quacks like a duck, then it must be a duck.”\n",
    "\n",
    "\n",
    " \n",
    "class Duck:\n",
    "    def walk(self):\n",
    "        print(\"This duck is walking\")\n",
    "    \n",
    "    def talk(self):\n",
    "        print(\"This duck is qwuacking\")\n",
    "\n",
    "\n",
    "class Chicken:\n",
    "    # we cannot pass our chicken object anymore \n",
    "    # AttributeError: 'Chicken' object has no attribute 'walk'\n",
    "    # this chicken does not have a walk method \n",
    "    # its not walking like a duck ,but its talking like a duck ,so it does'nt count as a duck \n",
    "        #-because it does not have its walk method \n",
    "\n",
    "    def talk(self):\n",
    "        print(\"This chicken is clucking\")\n",
    "\n",
    "class Person():\n",
    "    def catch(self, duck):\n",
    "        duck.walk()\n",
    "        duck.talk()\n",
    "        print(\"You caught the critter!\")\n",
    "\n",
    "\n",
    "duck = Duck()\n",
    "chicken = Chicken()\n",
    "person = Person()\n",
    "\n",
    "person.catch(chicken)"
   ]
  }
 ],
 "metadata": {
  "kernelspec": {
   "display_name": "Python 3",
   "language": "python",
   "name": "python3"
  },
  "language_info": {
   "codemirror_mode": {
    "name": "ipython",
    "version": 3
   },
   "file_extension": ".py",
   "mimetype": "text/x-python",
   "name": "python",
   "nbconvert_exporter": "python",
   "pygments_lexer": "ipython3",
   "version": "3.10.6"
  },
  "orig_nbformat": 4,
  "vscode": {
   "interpreter": {
    "hash": "916dbcbb3f70747c44a77c7bcd40155683ae19c65e1c03b4aa3499c5328201f1"
   }
  }
 },
 "nbformat": 4,
 "nbformat_minor": 2
}
