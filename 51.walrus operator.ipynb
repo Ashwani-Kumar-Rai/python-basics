{
 "cells": [
  {
   "cell_type": "code",
   "execution_count": 1,
   "metadata": {},
   "outputs": [],
   "source": [
    "# (walrus operator := )(also known as assignment expression)\n",
    "\n",
    "# new feature : in Python 3.8\n",
    "# assigns values to variables as part of a larger expression\n",
    "\n",
    "#happy = True\n",
    "#print(happy)\n",
    "\n",
    "# combining above two statements together\n",
    "print(happy := True) # king of := happy symbol\n",
    "\n"
   ]
  },
  {
   "cell_type": "code",
   "execution_count": 3,
   "metadata": {},
   "outputs": [],
   "source": [
    "foods = list()\n",
    "while True:\n",
    "    food = input(\"What food do you like?: \")\n",
    "    if food == \"quit\":\n",
    "        break\n",
    "    foods.append(food)\n",
    "print(foods)    "
   ]
  },
  {
   "cell_type": "code",
   "execution_count": 6,
   "metadata": {},
   "outputs": [
    {
     "name": "stdout",
     "output_type": "stream",
     "text": [
      "['samosa', 'chicken']\n"
     ]
    }
   ],
   "source": [
    "foods = list()\n",
    "while (food := input(\"What food do you like?: \")) != \"quit\":\n",
    "    foods.append(food)\n",
    "print(foods)"
   ]
  },
  {
   "cell_type": "code",
   "execution_count": null,
   "metadata": {},
   "outputs": [],
   "source": [
    "# walrus operator :=\n",
    "\n",
    "# new to Python 3.8\n",
    "# assignment expression aka walrus operator\n",
    "# assigns values to variables as part of a larger expression\n",
    "\n",
    "# happy = True\n",
    "# print(happy)\n",
    "\n",
    "# print(happy := True)\n",
    "\n",
    "# foods = list()\n",
    "# while True:\n",
    "#   food = input(\"What food do you like?: \")\n",
    "#       if food == \"quit\":\n",
    "#           break\n",
    "#   foods.append(food)\n",
    "\n",
    "foods = list()\n",
    "while (food := input(\"What food do you like?: \")) != \"quit\":\n",
    "    foods.append(food)"
   ]
  }
 ],
 "metadata": {
  "kernelspec": {
   "display_name": "Python 3",
   "language": "python",
   "name": "python3"
  },
  "language_info": {
   "codemirror_mode": {
    "name": "ipython",
    "version": 3
   },
   "file_extension": ".py",
   "mimetype": "text/x-python",
   "name": "python",
   "nbconvert_exporter": "python",
   "pygments_lexer": "ipython3",
   "version": "3.10.6"
  },
  "orig_nbformat": 4,
  "vscode": {
   "interpreter": {
    "hash": "916dbcbb3f70747c44a77c7bcd40155683ae19c65e1c03b4aa3499c5328201f1"
   }
  }
 },
 "nbformat": 4,
 "nbformat_minor": 2
}
