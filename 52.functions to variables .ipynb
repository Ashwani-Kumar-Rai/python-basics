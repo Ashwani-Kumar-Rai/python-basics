{
 "cells": [
  {
   "cell_type": "code",
   "execution_count": 9,
   "metadata": {},
   "outputs": [
    {
     "name": "stdout",
     "output_type": "stream",
     "text": [
      "<function hello at 0x7f4b3b307ac0>\n",
      "<function hello at 0x7f4b3b307ac0>\n",
      "Hello\n",
      "Hello\n",
      "Hello\n"
     ]
    }
   ],
   "source": [
    "# ASSIGN A FUNCTION TO A VARIABLE \n",
    "\n",
    "# NOTE : python treats everything as objects including functions\n",
    "\n",
    "def hello():\n",
    "    print(\"Hello\")\n",
    "\n",
    "print(hello) # this will print the memory address of the function\n",
    "                #- this is the address of where my function is located in my memory address\n",
    "\n",
    "# <function hello at 0x7f4b3b307880> this of this as street address , this is the address of where is my\n",
    "    #-function is within my computer's memory\n",
    "# Each time i run this program this address will change     \n",
    "\n",
    "\n",
    "# we could assign this address to a variable \n",
    "hi=hello\n",
    "# Be sure that you are not adding () to hello , then you'll be calling this function and returning \n",
    "    #-the result  to hi\n",
    "print(hi)    \n",
    "\n",
    "\n",
    "# what will happen if we call the hi() ,after we assign the memory address of hello to hi\n",
    "    #-then we are calling this hello function,even though we are typing(calling the hi function)\n",
    "hi() # OUTPUT : Hello\n",
    "# Now its like this hello function has two names ,either you can use hello or you can use hi \n",
    "\n",
    "\n",
    "\n",
    "# you can either call hello ,hi or both: that's because we are assigning ,because we are assigning \n",
    "    # the memory address of this hello to hi \n",
    "hello()# OUTPUT : Hello\n",
    "hi()    # OUTPUT : Hello\n",
    "# so we could treat hi as a function , it's kind of like alias to the function,like this function has\n",
    "    #-two names \n",
    "    \n"
   ]
  },
  {
   "cell_type": "code",
   "execution_count": null,
   "metadata": {},
   "outputs": [],
   "source": [
    "# let's say that we would like to assign our build in print function to a variable \n",
    "say = print # by print i mean print function , make sure you are not typing () with print-> print()\n",
    "\n",
    "# Now we can either use print or say ,because say has the same memory address\n",
    "\n",
    "\n",
    "say = print\n",
    "say(\"Whoa! I can't believe this works! \")\n",
    "\n",
    "# we'll be building upon this topic so make sure that , you understand this \n"
   ]
  }
 ],
 "metadata": {
  "kernelspec": {
   "display_name": "Python 3",
   "language": "python",
   "name": "python3"
  },
  "language_info": {
   "codemirror_mode": {
    "name": "ipython",
    "version": 3
   },
   "file_extension": ".py",
   "mimetype": "text/x-python",
   "name": "python",
   "nbconvert_exporter": "python",
   "pygments_lexer": "ipython3",
   "version": "3.10.6"
  },
  "orig_nbformat": 4,
  "vscode": {
   "interpreter": {
    "hash": "916dbcbb3f70747c44a77c7bcd40155683ae19c65e1c03b4aa3499c5328201f1"
   }
  }
 },
 "nbformat": 4,
 "nbformat_minor": 2
}
