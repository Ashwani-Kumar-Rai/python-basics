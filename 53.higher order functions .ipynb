{
 "cells": [
  {
   "cell_type": "code",
   "execution_count": 1,
   "metadata": {},
   "outputs": [
    {
     "name": "stdout",
     "output_type": "stream",
     "text": [
      "HELLO\n",
      "hello\n"
     ]
    }
   ],
   "source": [
    "# Functions are also treated as objects  \n",
    "\n",
    "#  Higher Order Function =  a function that either:\n",
    "#                           1. accepts a function as an argument\n",
    "#                               or\n",
    "#                           2. returns a function\n",
    "#                               (In python, functions are also treated as objects)\n",
    "\n",
    "\n",
    "# ----- 1. accepts a function as an argument ----- \n",
    "def loud(text): \n",
    "   return text.upper()\n",
    "\n",
    "def quiet(text):\n",
    "   return text.lower()\n",
    "\n",
    "def hello(func): # this hello functions is an example of higher order function\n",
    "                     # because we are accepting either loud or quiet as argument\n",
    "   text = func(\"Hello\")\n",
    "   print(text)\n",
    "\n",
    "hello(loud) # we are calling the hello function and we are passing loud as an argument\n",
    "hello(quiet)\n",
    "\n",
    "\n",
    "\n"
   ]
  },
  {
   "cell_type": "code",
   "execution_count": 4,
   "metadata": {},
   "outputs": [
    {
     "name": "stdout",
     "output_type": "stream",
     "text": [
      "5.0\n"
     ]
    }
   ],
   "source": [
    "#------------ 2. returns a function ------------- \n",
    "\n",
    "#  (dividend)          (divisor)    (quotient)\n",
    "#   10         /         2    =       5\n",
    "\n",
    "def divisor(x): # divisor is a higher order function   # we will accept number as an argument \n",
    "   def dividend(y):\n",
    "       return y / x\n",
    "   return dividend # return dividend function \n",
    "\n",
    "# To access dividend function , we first need to call outside divisor function and pass in a number \n",
    "   #-as an argument to service the divisor ,the divisor function is goining to return dividend function \n",
    "\n",
    "divide = divisor(2) # we are calling divisor and we are passing in 2  ,x will be 2 ,we are skipping the \n",
    "                        #-dividend function because we have not called it yet , we are returning \n",
    "                           #-dividend and assigning it to a variable \n",
    "                             #-and we can call this variable if it has a memory address of a function.\n",
    "\n",
    "print(divide(10))                      #( this is what we are doing in this line )\n",
    "\n"
   ]
  }
 ],
 "metadata": {
  "kernelspec": {
   "display_name": "Python 3",
   "language": "python",
   "name": "python3"
  },
  "language_info": {
   "codemirror_mode": {
    "name": "ipython",
    "version": 3
   },
   "file_extension": ".py",
   "mimetype": "text/x-python",
   "name": "python",
   "nbconvert_exporter": "python",
   "pygments_lexer": "ipython3",
   "version": "3.10.6 (main, Nov 14 2022, 16:10:14) [GCC 11.3.0]"
  },
  "orig_nbformat": 4,
  "vscode": {
   "interpreter": {
    "hash": "916dbcbb3f70747c44a77c7bcd40155683ae19c65e1c03b4aa3499c5328201f1"
   }
  }
 },
 "nbformat": 4,
 "nbformat_minor": 2
}
