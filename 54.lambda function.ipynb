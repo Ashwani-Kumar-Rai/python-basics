{
 "cells": [
  {
   "cell_type": "code",
   "execution_count": null,
   "metadata": {},
   "outputs": [],
   "source": [
    "# lambda function = function written in 1 line using lambda keyword\n",
    "#                   accepts any number of arguments, but only has one expression.\n",
    "#                   (think of it as a shortcut)\n",
    "#                   (useful if needed for a short period of time, throw-away)\n",
    "#\n",
    "# lambda parameters:expression\n",
    "\n",
    "double = lambda x: x * 2\n",
    "print(double(1))\n",
    "\n",
    "multiply = lambda x, y: x * y\n",
    "print(multiply(1,2))\n",
    "\n",
    "add = lambda x, y, z: x + y + z\n",
    "print(add(1,2,3))\n",
    "\n",
    "full_name = lambda first_name, last_name: first_name+\" \"+last_name\n",
    "print(full_name(\"Bro\",\"Code\"))"
   ]
  }
 ],
 "metadata": {
  "kernelspec": {
   "display_name": "Python 3",
   "language": "python",
   "name": "python3"
  },
  "language_info": {
   "name": "python",
   "version": "3.10.6 (main, Nov 14 2022, 16:10:14) [GCC 11.3.0]"
  },
  "orig_nbformat": 4,
  "vscode": {
   "interpreter": {
    "hash": "916dbcbb3f70747c44a77c7bcd40155683ae19c65e1c03b4aa3499c5328201f1"
   }
  }
 },
 "nbformat": 4,
 "nbformat_minor": 2
}
