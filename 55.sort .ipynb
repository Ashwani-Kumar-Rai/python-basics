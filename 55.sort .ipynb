{
 "cells": [
  {
   "cell_type": "code",
   "execution_count": null,
   "metadata": {},
   "outputs": [],
   "source": [
    "# -------------------------------------------------------------------\n",
    "# sort() method   = used with lists\n",
    "# sort() function = used with iterables\n",
    "\n",
    "students = ((\"Squidward\", \"F\", 60),\n",
    "            (\"Sandy\", \"A\", 33),\n",
    "            (\"Patrick\",\"D\", 36),\n",
    "            (\"Spongebob\",\"B\", 20),\n",
    "            (\"Mr.Krabs\",\"C\", 78))\n",
    "\n",
    "grade = lambda grades:grades[1]\n",
    "# students.sort(key=age)                     # sorts current list\n",
    "sorted_students = sorted(students,key=grade) # sorts and creates a new list\n",
    "\n",
    "for i in sorted_students:\n",
    "    print(i)\n",
    "# -------------------------------------------------------------------"
   ]
  }
 ],
 "metadata": {
  "kernelspec": {
   "display_name": "Python 3",
   "language": "python",
   "name": "python3"
  },
  "language_info": {
   "name": "python",
   "version": "3.10.6 (main, Nov 14 2022, 16:10:14) [GCC 11.3.0]"
  },
  "orig_nbformat": 4,
  "vscode": {
   "interpreter": {
    "hash": "916dbcbb3f70747c44a77c7bcd40155683ae19c65e1c03b4aa3499c5328201f1"
   }
  }
 },
 "nbformat": 4,
 "nbformat_minor": 2
}
