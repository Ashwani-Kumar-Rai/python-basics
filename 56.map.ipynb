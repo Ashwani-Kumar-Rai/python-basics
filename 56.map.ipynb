{
 "cells": [
  {
   "cell_type": "code",
   "execution_count": null,
   "metadata": {},
   "outputs": [],
   "source": [
    "# ---------------------------------------------------------------------------------------------------------------\n",
    "# map() =   applies a function to each item in an iterable (list, tuple, etc.)\n",
    "#\n",
    "# map(function,iterable)\n",
    "\n",
    "store = [(\"shirt\",20.00),\n",
    "         (\"pants\",25.00),\n",
    "         (\"jacket\",50.00),\n",
    "         (\"socks\",10.00)]\n",
    "\n",
    "to_euros = lambda data: (data[0],data[1]*0.82)\n",
    "# to_dollars = lambda data: (data[0],data[1]/0.82)\n",
    "\n",
    "store_euros = list(map(to_euros, store))\n",
    "\n",
    "for i in store_euros:\n",
    "    print(i)\n",
    "# ---------------------------------------------------------------------------------------------------------------"
   ]
  }
 ],
 "metadata": {
  "language_info": {
   "name": "python"
  },
  "orig_nbformat": 4
 },
 "nbformat": 4,
 "nbformat_minor": 2
}
