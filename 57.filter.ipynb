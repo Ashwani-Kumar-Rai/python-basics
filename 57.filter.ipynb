{
 "cells": [
  {
   "cell_type": "code",
   "execution_count": null,
   "metadata": {},
   "outputs": [],
   "source": [
    "# filter() =    creates a collection of elements from an iterable,\n",
    "#               for which a function returns true\n",
    "#\n",
    "#               filter(function, iterable)\n"
   ]
  }
 ],
 "metadata": {
  "language_info": {
   "name": "python"
  },
  "orig_nbformat": 4
 },
 "nbformat": 4,
 "nbformat_minor": 2
}
