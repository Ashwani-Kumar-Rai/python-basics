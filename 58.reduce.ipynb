{
 "cells": [
  {
   "cell_type": "code",
   "execution_count": null,
   "metadata": {},
   "outputs": [],
   "source": [
    "# reduce() = apply a function to an iterable and reduce it to a single cumulative value.\n",
    "#            performs function on first two elements and repeats process until 1 value remains\n",
    "#\n",
    "# reduce(function, iterable)\n",
    "\n",
    "import functools\n",
    "\n",
    "letters = [\"H\",\"E\",\"L\",\"L\",\"O\"]\n",
    "word = functools.reduce(lambda x, y,:x + y,letters)\n",
    "print(word)\n",
    "\n",
    "# factorial = [5,4,3,2,1]\n",
    "# result = functools.reduce(lambda x, y,:x * y,factorial)\n",
    "# print(result)\n"
   ]
  }
 ],
 "metadata": {
  "language_info": {
   "name": "python"
  },
  "orig_nbformat": 4
 },
 "nbformat": 4,
 "nbformat_minor": 2
}
