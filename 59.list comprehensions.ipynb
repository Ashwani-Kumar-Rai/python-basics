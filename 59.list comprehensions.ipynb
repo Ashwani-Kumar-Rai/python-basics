{
 "cells": [
  {
   "cell_type": "code",
   "execution_count": null,
   "metadata": {},
   "outputs": [],
   "source": [
    "# list comprehension =  a way to create a new list with less syntax\n",
    "#                       can mimic certain lambda functions, easier to read\n",
    "#                       list = [expression for item in iterable]\n",
    "#                       list = [expression for item in iterable if conditional]\n",
    "#                       list = [expression if/else for item in iterable]\n",
    "# --------------------------------------------------------------\n",
    "squares = []                # create an empty list\n",
    "for i in range(1,11):       # create a for loop\n",
    "    squares.append(i * i)    # define what each loop iteration should do\n",
    "print(squares)\n",
    "\n",
    "# create a list AND defines what each loop iteration should do\n",
    "squares = [i * i for i in range(1,11)]\n",
    "print(squares)\n",
    "\n",
    "# --------------------------------------------------------------"
   ]
  }
 ],
 "metadata": {
  "language_info": {
   "name": "python"
  },
  "orig_nbformat": 4
 },
 "nbformat": 4,
 "nbformat_minor": 2
}
