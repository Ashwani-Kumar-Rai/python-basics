{
 "cells": [
  {
   "cell_type": "code",
   "execution_count": null,
   "metadata": {},
   "outputs": [],
   "source": [
    "# -------------------------------------------------------------------------\n",
    "# dictionary comprehension = create dictionaries using an expression\n",
    "#                            can replace for loops and certain lambda functions\n",
    "#\n",
    "# dictionary = {key: expression for (key,value) in iterable}\n",
    "# dictionary = {key: expression for (key,value) in iterable if conditional}\n",
    "# dictionary = {key: (if/else) for (key,value) in iterable}\n",
    "# dictionary = {key: function(value) for (key,value) in iterable}\n",
    "# -------------------------------------------------------------------------\n",
    "cities_in_F = {'New York': 32, 'Boston': 75, 'Los Angeles': 100, 'Chicago': 50}\n",
    "cities_in_C = {key: round((value-32)*(5/9)) for (key,value) in cities_in_F.items()}\n",
    "print(cities_in_C)\n",
    "\n",
    "# -------------------------------------------------------------------------\n",
    "# weather = {'New York': \"snowing\", 'Boston': \"sunny\", 'Los Angeles': \"sunny\", 'Chicago': \"cloudy\"}\n",
    "# sunny_weather = {key: value for (key,value) in weather.items() if value == \"sunny\"}\n",
    "# print(sunny_weather)\n",
    "\n",
    "# -------------------------------------------------------------------------"
   ]
  }
 ],
 "metadata": {
  "language_info": {
   "name": "python"
  },
  "orig_nbformat": 4
 },
 "nbformat": 4,
 "nbformat_minor": 2
}
