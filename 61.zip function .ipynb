{
 "cells": [
  {
   "cell_type": "code",
   "execution_count": null,
   "metadata": {},
   "outputs": [],
   "source": [
    "# zip(*iterables) =  aggregate elements from two or more iterables (list, tuples, sets, etc.)\n",
    "#                    creates a zip object with paired elements stored in tuples for each element\n",
    "\n",
    "usernames = [\"Dude\", \"Bro\", \"Mister\"]\n",
    "passwords = (\"p@ssword\", \"abc123\", \"guest\")\n",
    "login_dates = [\"1/1/2021\",\"1/2/2021\",\"1/3/2021\"]\n",
    "\n",
    "# --------------------------------------\n",
    "users = list(zip(usernames,passwords))\n",
    "\n",
    "for i in users:\n",
    "    print(i)\n",
    "\n",
    "# --------------------------------------\n",
    "users = dict(zip(usernames,passwords))\n",
    "\n",
    "for key,value in users.items():\n",
    "    print(key+\" : \"+value)\n",
    "\n",
    "# --------------------------------------\n",
    "users = zip(usernames,passwords,login_dates)\n",
    "\n",
    "for i in users:\n",
    "    print(i)\n",
    "\n",
    "# --------------------------------------"
   ]
  }
 ],
 "metadata": {
  "language_info": {
   "name": "python"
  },
  "orig_nbformat": 4
 },
 "nbformat": 4,
 "nbformat_minor": 2
}
