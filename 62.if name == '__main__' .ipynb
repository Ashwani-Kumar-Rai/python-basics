{
 "cells": [
  {
   "cell_type": "code",
   "execution_count": null,
   "metadata": {},
   "outputs": [],
   "source": [
    "# ***********************************\n",
    "# if _name_ == '__main__'\n",
    "# ***********************************\n",
    "\n",
    "# y tho?\n",
    "# 1. Module can be run as a standalone program\n",
    "#    or\n",
    "# 2. Module can be imported and used by other modules\n",
    "\n",
    "#  Python interpreter sets \"special variables\", one of which is _name_\n",
    "#  Python will assign the _name_ variable a value of '__main__' if it's\n",
    "#  the initial module being run\n",
    "\n",
    "def main():\n",
    "    print(\"Hello!\")\n",
    "\n",
    "\n",
    "if _name_ == '__main__':\n",
    "    main()\n",
    "\n",
    "# ***********************************"
   ]
  }
 ],
 "metadata": {
  "kernelspec": {
   "display_name": "Python 3",
   "language": "python",
   "name": "python3"
  },
  "language_info": {
   "name": "python",
   "version": "3.10.6 (main, Nov 14 2022, 16:10:14) [GCC 11.3.0]"
  },
  "orig_nbformat": 4,
  "vscode": {
   "interpreter": {
    "hash": "916dbcbb3f70747c44a77c7bcd40155683ae19c65e1c03b4aa3499c5328201f1"
   }
  }
 },
 "nbformat": 4,
 "nbformat_minor": 2
}
