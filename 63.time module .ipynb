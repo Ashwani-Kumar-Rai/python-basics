{
 "cells": [
  {
   "cell_type": "code",
   "execution_count": null,
   "metadata": {},
   "outputs": [],
   "source": [
    "# ***************************************************************************\n",
    "import time\n",
    "# ***************************************************************************\n",
    "print(time.ctime(0))    # convert a time expressed in seconds since epoch to a readable string\n",
    "#                                        epoch = when your computer thinks time began (reference point)\n",
    "print(time.time())      # return current seconds since epoch\n",
    "print(time.ctime(time.time())) # will get current time\n",
    "\n",
    "# ***************************************************************************\n",
    "# time.strftime(format, time_object) = formats a time_object to a string\n",
    "# time_object = time.localtime() # local time\n",
    "# time_object = time.gmtime()  # UTC time\n",
    "# local_time = time.strftime(\"%B %d %Y %H:%M:%S\", time_object)\n",
    "# print(local_time)\n",
    "\n",
    "# ***************************************************************************\n",
    "# time.strptime(string_string, format) = parses a string representing time/date and returns a struct_time object\n",
    "# time_string = \"20 April, 2020\"\n",
    "# time_object = time.strptime(time_string,\"%d %B, %Y\")\n",
    "# print(time_object)\n",
    "\n",
    "# ***************************************************************************\n",
    "# time.asctime(time_tuple) = accepts a time_object or a tuple up to 9 elements and returns a string\n",
    "# (year, month, day, hours, minutes, secs, #day of the week, #day of the year, dst)\n",
    "# time_tuple = (2020, 4, 20, 4, 20, 0, 0, 0, 0)\n",
    "# time_string = time.asctime(time_tuple)\n",
    "# print(time_string)\n",
    "\n",
    "# ***************************************************************************\n",
    "# time.asctime(time_tuple) = accepts a time_object or a tuple up to 9 elements and return seconds since epoch\n",
    "# (year, month, day, hours, minutes, secs, #day of the week, #day of the year, dst)\n",
    "# time_tuple = (2020, 4, 20, 4, 20, 0, 0, 0, 0)\n",
    "# time_string = time.mktime(time_tuple)\n",
    "# print(time_string)\n",
    "\n",
    "# ***************************************************************************"
   ]
  }
 ],
 "metadata": {
  "kernelspec": {
   "display_name": "Python 3",
   "language": "python",
   "name": "python3"
  },
  "language_info": {
   "name": "python",
   "version": "3.10.6 (main, Nov 14 2022, 16:10:14) [GCC 11.3.0]"
  },
  "orig_nbformat": 4,
  "vscode": {
   "interpreter": {
    "hash": "916dbcbb3f70747c44a77c7bcd40155683ae19c65e1c03b4aa3499c5328201f1"
   }
  }
 },
 "nbformat": 4,
 "nbformat_minor": 2
}
