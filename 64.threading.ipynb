{
 "cells": [
  {
   "cell_type": "code",
   "execution_count": null,
   "metadata": {},
   "outputs": [],
   "source": [
    "# ******************************************************\n",
    "# Python threading tutorial\n",
    "# ******************************************************\n",
    "# thread =  a flow of execution. Like a separate order of instructions.\n",
    "#                  However each thread takes a turn running to achieve concurrency\n",
    "#                  GIL = (global interpreter lock),\n",
    "#                  allows only one thread to hold the control of the Python interpreter at any one time\n",
    "\n",
    "# cpu bound = program/task spends most of it's time waiting for internal events (CPU intensive)\n",
    "#             use multiprocessing\n",
    "\n",
    "# io bound = program/task spends most of it's time waiting for external events (user input, web scraping)\n",
    "#            use multithreading\n",
    "\n",
    "import threading\n",
    "import time\n",
    "\n",
    "\n",
    "def eat_breakfast():\n",
    "    time.sleep(3)\n",
    "    print(\"You eat breakfast\")\n",
    "\n",
    "\n",
    "def drink_coffee():\n",
    "    time.sleep(4)\n",
    "    print(\"You drank coffee\")\n",
    "\n",
    "\n",
    "def study():\n",
    "    time.sleep(5)\n",
    "    print(\"You finish studying\")\n",
    "\n",
    "\n",
    "x = threading.Thread(target=eat_breakfast, args=())\n",
    "x.start()\n",
    "\n",
    "y = threading.Thread(target=drink_coffee, args=())\n",
    "y.start()\n",
    "\n",
    "z = threading.Thread(target=study, args=())\n",
    "z.start()\n",
    "\n",
    "x.join()\n",
    "y.join()\n",
    "z.join()\n",
    "\n",
    "print(threading.active_count())\n",
    "print(threading.enumerate())\n",
    "print(time.perf_counter())\n",
    "\n",
    "# ******************************************************"
   ]
  }
 ],
 "metadata": {
  "kernelspec": {
   "display_name": "Python 3",
   "language": "python",
   "name": "python3"
  },
  "language_info": {
   "name": "python",
   "version": "3.10.6 (main, Nov 14 2022, 16:10:14) [GCC 11.3.0]"
  },
  "orig_nbformat": 4,
  "vscode": {
   "interpreter": {
    "hash": "916dbcbb3f70747c44a77c7bcd40155683ae19c65e1c03b4aa3499c5328201f1"
   }
  }
 },
 "nbformat": 4,
 "nbformat_minor": 2
}
