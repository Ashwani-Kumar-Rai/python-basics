{
 "cells": [
  {
   "cell_type": "code",
   "execution_count": null,
   "metadata": {},
   "outputs": [],
   "source": [
    "# ************************************************************\n",
    "# Python daemon threads\n",
    "# ************************************************************\n",
    "\n",
    "# daemon thread = a thread that runs in the background, not important for program to run\n",
    "#                 your program will not wait for daemon threads to complete before exiting\n",
    "#                 non-daemon threads cannot normally be killed, stay alive until task is complete\n",
    "#\n",
    "#                 ex. background tasks, garbage collection, waiting for input, long running processes\n",
    "\n",
    "import threading\n",
    "import time\n",
    "\n",
    "\n",
    "def timer():\n",
    "    print()\n",
    "    count = 0\n",
    "    while True:\n",
    "        time.sleep(1)\n",
    "        count += 1\n",
    "        print(\"logged in for: \", count, \"seconds\")\n",
    "\n",
    "\n",
    "x = threading.Thread(target=timer, daemon=True)\n",
    "x.start()\n",
    "\n",
    "# x.setDaemon(True)\n",
    "# print(x.isDaemon())\n",
    "\n",
    "answer = input(\"Do you wish to exit?\")\n",
    "\n",
    "# ************************************************************"
   ]
  }
 ],
 "metadata": {
  "kernelspec": {
   "display_name": "Python 3",
   "language": "python",
   "name": "python3"
  },
  "language_info": {
   "name": "python",
   "version": "3.10.6 (main, Nov 14 2022, 16:10:14) [GCC 11.3.0]"
  },
  "orig_nbformat": 4,
  "vscode": {
   "interpreter": {
    "hash": "916dbcbb3f70747c44a77c7bcd40155683ae19c65e1c03b4aa3499c5328201f1"
   }
  }
 },
 "nbformat": 4,
 "nbformat_minor": 2
}
