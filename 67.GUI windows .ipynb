{
 "cells": [
  {
   "cell_type": "code",
   "execution_count": null,
   "metadata": {},
   "outputs": [],
   "source": [
    "\n",
    "from tkinter import *\n",
    "\n",
    "window = Tk() #instantiate an instance of a window\n",
    "window.geometry(\"420x420\")\n",
    "window.title(\"Bro Code first GUI program\")\n",
    "\n",
    "icon = PhotoImage(file='logo.png')\n",
    "window.iconphoto(True,icon)\n",
    "window.config(background=\"#5cfcff\")\n",
    "\n",
    "window.mainloop() #place window on computer screen, listen for events"
   ]
  }
 ],
 "metadata": {
  "language_info": {
   "name": "python"
  },
  "orig_nbformat": 4
 },
 "nbformat": 4,
 "nbformat_minor": 2
}
