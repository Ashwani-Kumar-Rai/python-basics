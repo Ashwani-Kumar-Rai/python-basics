{
 "cells": [
  {
   "cell_type": "code",
   "execution_count": null,
   "metadata": {},
   "outputs": [],
   "source": [
    "from tkinter import *\n",
    "\n",
    "# label = an area widget that holds text and/or an image within a window\n",
    "\n",
    "window = Tk()\n",
    "\n",
    "photo = PhotoImage(file='person.png')\n",
    "\n",
    "label = Label(window,\n",
    "              text=\"bro, do you even code?\",\n",
    "              font=('Arial',40,'bold'),\n",
    "              fg='#00FF00',\n",
    "              bg='black',\n",
    "              relief=RAISED,\n",
    "              bd=10,\n",
    "              padx=20,\n",
    "              pady=20,\n",
    "              image=photo,\n",
    "              compound='bottom')\n",
    "label.pack()\n",
    "#label.place(x=0,y=0)\n",
    "\n",
    "window.mainloop()"
   ]
  }
 ],
 "metadata": {
  "language_info": {
   "name": "python"
  },
  "orig_nbformat": 4
 },
 "nbformat": 4,
 "nbformat_minor": 2
}
