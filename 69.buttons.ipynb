{
 "cells": [
  {
   "cell_type": "code",
   "execution_count": null,
   "metadata": {},
   "outputs": [],
   "source": [
    "from tkinter import *\n",
    "\n",
    "# button = you click it, then it does stuff\n",
    "\n",
    "count = 0\n",
    "\n",
    "def click():\n",
    "    global count\n",
    "    count+=1\n",
    "    print(count)\n",
    "\n",
    "window = Tk()\n",
    "\n",
    "photo = PhotoImage(file='like.png')\n",
    "\n",
    "button = Button(window,\n",
    "                text=\"click me!\",\n",
    "                command=click,\n",
    "                font=(\"Comic Sans\",30),\n",
    "                fg=\"#00FF00\",\n",
    "                bg=\"black\",\n",
    "                activeforeground=\"#00FF00\",\n",
    "                activebackground=\"black\",\n",
    "                state=ACTIVE,\n",
    "                image=photo,\n",
    "                compound='bottom')\n",
    "button.pack()\n",
    "\n",
    "window.mainloop()"
   ]
  }
 ],
 "metadata": {
  "language_info": {
   "name": "python"
  },
  "orig_nbformat": 4
 },
 "nbformat": 4,
 "nbformat_minor": 2
}
