{
 "cells": [
  {
   "cell_type": "code",
   "execution_count": 11,
   "metadata": {},
   "outputs": [
    {
     "name": "stdout",
     "output_type": "stream",
     "text": [
      "3\n",
      "1\n",
      "3\n",
      "4\n",
      "3\n",
      "3.14\n",
      "9.8596\n",
      "2.0\n"
     ]
    }
   ],
   "source": [
    "# math is a built-in module in the Python 3 standard library that provides standard math constants & functions.\n",
    "\n",
    "import math #math is a module\n",
    "\n",
    "pi=3.14 \n",
    "\n",
    "x,y,z=1,2,3\n",
    "print(max(x,y,z))#3\n",
    "print(min(x,y,z))#1\n",
    "\n",
    "\n",
    "print(round(pi)) #3 \n",
    "print(math.ceil(pi)) #4\n",
    "print(math.floor(pi)) #3\n",
    "print(abs(pi)) #3.14\n",
    "print(pow(pi,2)) # pow(base,exponent)\n",
    "print(math.sqrt(4)) #2.0\n"
   ]
  }
 ],
 "metadata": {
  "kernelspec": {
   "display_name": "Python 3",
   "language": "python",
   "name": "python3"
  },
  "language_info": {
   "codemirror_mode": {
    "name": "ipython",
    "version": 3
   },
   "file_extension": ".py",
   "mimetype": "text/x-python",
   "name": "python",
   "nbconvert_exporter": "python",
   "pygments_lexer": "ipython3",
   "version": "3.10.6 (main, Nov 14 2022, 16:10:14) [GCC 11.3.0]"
  },
  "orig_nbformat": 4,
  "vscode": {
   "interpreter": {
    "hash": "916dbcbb3f70747c44a77c7bcd40155683ae19c65e1c03b4aa3499c5328201f1"
   }
  }
 },
 "nbformat": 4,
 "nbformat_minor": 2
}
