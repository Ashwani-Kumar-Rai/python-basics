{
 "cells": [
  {
   "cell_type": "code",
   "execution_count": null,
   "metadata": {},
   "outputs": [],
   "source": [
    "from tkinter import *\n",
    "\n",
    "#entry widget = textbox that accepts a single line of user input\n",
    "\n",
    "def submit():\n",
    "    username = entry.get()\n",
    "    print(\"Hello \"+username)\n",
    "\n",
    "def delete():\n",
    "    entry.delete(0,END)\n",
    "\n",
    "def backspace():\n",
    "    entry.delete(len(entry.get())-1, END)\n",
    "\n",
    "window = Tk()\n",
    "\n",
    "entry = Entry(window,\n",
    "              font=(\"Arial\",50),\n",
    "              fg=\"#00FF00\",\n",
    "              bg=\"black\")\n",
    "\n",
    "#entry.insert(0,'Spongebob')\n",
    "#entry.config(show=\"*\")\n",
    "#entry.config(state=DISABLED)\n",
    "\n",
    "entry.pack(side=LEFT)\n",
    "\n",
    "submit_button = Button(window,text=\"submit\",command=submit)\n",
    "submit_button.pack(side=RIGHT)\n",
    "\n",
    "delete_button = Button(window,text=\"delete\",command=delete)\n",
    "delete_button.pack(side=RIGHT)\n",
    "\n",
    "backspace_button = Button(window,text=\"backspace\",command=backspace)\n",
    "backspace_button.pack(side=RIGHT)\n",
    "\n",
    "window.mainloop()"
   ]
  }
 ],
 "metadata": {
  "kernelspec": {
   "display_name": "Python 3",
   "language": "python",
   "name": "python3"
  },
  "language_info": {
   "name": "python",
   "version": "3.10.6 (main, Nov 14 2022, 16:10:14) [GCC 11.3.0]"
  },
  "orig_nbformat": 4,
  "vscode": {
   "interpreter": {
    "hash": "916dbcbb3f70747c44a77c7bcd40155683ae19c65e1c03b4aa3499c5328201f1"
   }
  }
 },
 "nbformat": 4,
 "nbformat_minor": 2
}
