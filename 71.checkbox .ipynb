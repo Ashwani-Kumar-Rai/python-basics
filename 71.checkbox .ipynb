{
 "cells": [
  {
   "cell_type": "code",
   "execution_count": null,
   "metadata": {},
   "outputs": [],
   "source": [
    "from tkinter import *\n",
    "\n",
    "\n",
    "\n",
    "def display():\n",
    "\n",
    "    if(x.get()==1):\n",
    "\n",
    "        print(\"You agree!\")\n",
    "\n",
    "    else:\n",
    "\n",
    "        print(\"You don't agree :(\")\n",
    "\n",
    "\n",
    "\n",
    "window = Tk()\n",
    "\n",
    "\n",
    "\n",
    "x = IntVar()\n",
    "\n",
    "\n",
    "\n",
    "python_photo = PhotoImage(file='Python.png')\n",
    "\n",
    "\n",
    "\n",
    "check_button = Checkbutton(window,\n",
    "\n",
    "                           text=\"I agree to something\",\n",
    "\n",
    "                           variable=x,\n",
    "\n",
    "                           onvalue=1,\n",
    "\n",
    "                           offvalue=0,\n",
    "\n",
    "                           command=display,\n",
    "\n",
    "                           font=('Arial',20),\n",
    "\n",
    "                           fg='#00FF00',\n",
    "\n",
    "                           bg='black',\n",
    "\n",
    "                           activeforeground='#00FF00',\n",
    "\n",
    "                           activebackground='black',\n",
    "\n",
    "                           padx=25,\n",
    "\n",
    "                           pady=10,\n",
    "\n",
    "                           image=python_photo,\n",
    "\n",
    "                           compound='left')\n",
    "\n",
    "check_button.pack()\n",
    "\n",
    "\n",
    "\n",
    "\n",
    "\n",
    "window.mainloop()"
   ]
  }
 ],
 "metadata": {
  "kernelspec": {
   "display_name": "Python 3",
   "language": "python",
   "name": "python3"
  },
  "language_info": {
   "name": "python",
   "version": "3.10.6 (main, Nov 14 2022, 16:10:14) [GCC 11.3.0]"
  },
  "orig_nbformat": 4,
  "vscode": {
   "interpreter": {
    "hash": "916dbcbb3f70747c44a77c7bcd40155683ae19c65e1c03b4aa3499c5328201f1"
   }
  }
 },
 "nbformat": 4,
 "nbformat_minor": 2
}
