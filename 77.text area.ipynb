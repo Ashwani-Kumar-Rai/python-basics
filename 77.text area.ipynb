{
 "cells": [
  {
   "cell_type": "code",
   "execution_count": null,
   "metadata": {},
   "outputs": [],
   "source": [
    "# text widget = functions like a text area, you can enter multiple lines of text\n",
    "\n",
    "from tkinter import *\n",
    "\n",
    "\n",
    "\n",
    "def submit():\n",
    "\n",
    "    input = text.get(\"1.0\",END)\n",
    "\n",
    "    print(input)\n",
    "\n",
    "\n",
    "\n",
    "window = Tk()\n",
    "\n",
    "text = Text(window,\n",
    "\n",
    "            bg=\"light yellow\",\n",
    "\n",
    "            font=(\"Ink Free\",25),\n",
    "\n",
    "            height=8,\n",
    "\n",
    "            width=20,\n",
    "\n",
    "            padx=20,\n",
    "\n",
    "            pady=20,\n",
    "\n",
    "            fg=\"purple\")\n",
    "\n",
    "text.pack()\n",
    "\n",
    "button = Button(window,text=\"submit\",command=submit)\n",
    "\n",
    "button.pack()\n",
    "\n",
    "window.mainloop()"
   ]
  }
 ],
 "metadata": {
  "language_info": {
   "name": "python"
  },
  "orig_nbformat": 4
 },
 "nbformat": 4,
 "nbformat_minor": 2
}
