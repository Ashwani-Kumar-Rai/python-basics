{
 "cells": [
  {
   "cell_type": "code",
   "execution_count": null,
   "metadata": {},
   "outputs": [],
   "source": [
    "from tkinter import *\n",
    "from tkinter import filedialog\n",
    "\n",
    "def openFile():\n",
    "    filepath = filedialog.askopenfilename(initialdir=\"C:\\\\Users\\\\Cakow\\\\PycharmProjects\\\\Main\",\n",
    "                                          title=\"Open file okay?\",\n",
    "                                          filetypes= ((\"text files\",\"*.txt\"),\n",
    "                                          (\"all files\",\"*.*\")))\n",
    "    file = open(filepath,'r')\n",
    "    print(file.read())\n",
    "    file.close()\n",
    "\n",
    "window = Tk()\n",
    "button = Button(text=\"Open\",command=openFile)\n",
    "button.pack()\n",
    "window.mainloop()"
   ]
  }
 ],
 "metadata": {
  "language_info": {
   "name": "python"
  },
  "orig_nbformat": 4
 },
 "nbformat": 4,
 "nbformat_minor": 2
}
