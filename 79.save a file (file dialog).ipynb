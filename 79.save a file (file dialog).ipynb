{
 "cells": [
  {
   "cell_type": "code",
   "execution_count": null,
   "metadata": {},
   "outputs": [],
   "source": [
    "from tkinter import *\n",
    "from tkinter import filedialog\n",
    "\n",
    "def saveFile():\n",
    "    file = filedialog.asksaveasfile(initialdir=\"C:\\\\Users\\\\Cakow\\\\PycharmProjects\\\\Main\",\n",
    "                                    defaultextension='.txt',\n",
    "                                    filetypes=[\n",
    "                                        (\"Text file\",\".txt\"),\n",
    "                                        (\"HTML file\", \".html\"),\n",
    "                                        (\"All files\", \".*\"),\n",
    "                                    ])\n",
    "    if file is None:\n",
    "        return\n",
    "    filetext = str(text.get(1.0,END))\n",
    "    #filetext = input(\"Enter some text I guess: \") //use this if you want to use console window\n",
    "    file.write(filetext)\n",
    "    file.close()\n",
    "\n",
    "window = Tk()\n",
    "button = Button(text='save',command=saveFile)\n",
    "button.pack()\n",
    "text = Text(window)\n",
    "text.pack()\n",
    "window.mainloop()"
   ]
  }
 ],
 "metadata": {
  "language_info": {
   "name": "python"
  },
  "orig_nbformat": 4
 },
 "nbformat": 4,
 "nbformat_minor": 2
}
