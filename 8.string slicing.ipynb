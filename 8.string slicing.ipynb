{
 "cells": [
  {
   "cell_type": "code",
   "execution_count": 9,
   "metadata": {},
   "outputs": [
    {
     "name": "stdout",
     "output_type": "stream",
     "text": [
      "s\n",
      "sha\n",
      "shankar\n",
      "sam hna\n",
      "raknahs amyahs\n"
     ]
    }
   ],
   "source": [
    "# slicing : creating a substring by extracting elements from another string\n",
    "#          indexing[] or slice()\n",
    "#          [start:stop:step] (start is included, stop is excluded)\n",
    "\n",
    "name = \"shayma shankar\"\n",
    "\n",
    "first_name = name[0]\n",
    "print(first_name)  \n",
    "\n",
    "first_name = name[0:3] #[0:3] same as [:3] (python assumes 0) #(start is included, stop is excluded)\n",
    "print(first_name)\n",
    "\n",
    "last_name = name[7:15] # [7:15] same as [7:] (python assumes last index)\n",
    "print(last_name)\n",
    "\n",
    "funky_name=name[0:15:2] # [0:15:2] same as [::3] must have 2 colons to show -> start and end index is there\n",
    "print(funky_name)\n",
    "\n",
    "reversed_name=name[::-1] # from starting to end we are  counting backwards  .\n",
    "print(reversed_name)\n",
    "\n"
   ]
  },
  {
   "cell_type": "code",
   "execution_count": 39,
   "metadata": {},
   "outputs": [
    {
     "ename": "TypeError",
     "evalue": "'slice' object is not callable",
     "output_type": "error",
     "traceback": [
      "\u001b[0;31m---------------------------------------------------------------------------\u001b[0m",
      "\u001b[0;31mTypeError\u001b[0m                                 Traceback (most recent call last)",
      "Cell \u001b[0;32mIn[39], line 6\u001b[0m\n\u001b[1;32m      2\u001b[0m website2 \u001b[39m=\u001b[39m \u001b[39m\"\u001b[39m\u001b[39mhttp://wikipedia.com\u001b[39m\u001b[39m\"\u001b[39m\n\u001b[1;32m      4\u001b[0m \u001b[39m#[slice_object]=[function_invocation]\u001b[39;00m\n\u001b[1;32m      5\u001b[0m \u001b[39m# Define the slice object with a different name\u001b[39;00m\n\u001b[0;32m----> 6\u001b[0m web_slice \u001b[39m=\u001b[39m \u001b[39mslice\u001b[39;49m(\u001b[39m7\u001b[39;49m, \u001b[39m-\u001b[39;49m\u001b[39m4\u001b[39;49m)\n\u001b[1;32m      8\u001b[0m \u001b[39m# Use the slice object on the string variable to extract the desired portion\u001b[39;00m\n\u001b[1;32m      9\u001b[0m \u001b[39mprint\u001b[39m(website1[web_slice])\n",
      "\u001b[0;31mTypeError\u001b[0m: 'slice' object is not callable"
     ]
    }
   ],
   "source": [
    "website1 = \"http://google.com\"\n",
    "website2 = \"http://wikipedia.com\"\n",
    "\n",
    "#[slice_object]=[function_invocation]\n",
    "# Define the slice object \n",
    "web_slice = slice(7, -4)\n",
    "\n",
    "# Use the slice object on the string variable to extract the desired portion\n",
    "print(website1[web_slice])\n",
    "print(website2[web_slice])"
   ]
  },
  {
   "cell_type": "code",
   "execution_count": null,
   "metadata": {},
   "outputs": [],
   "source": []
  }
 ],
 "metadata": {
  "kernelspec": {
   "display_name": "Python 3",
   "language": "python",
   "name": "python3"
  },
  "language_info": {
   "codemirror_mode": {
    "name": "ipython",
    "version": 3
   },
   "file_extension": ".py",
   "mimetype": "text/x-python",
   "name": "python",
   "nbconvert_exporter": "python",
   "pygments_lexer": "ipython3",
   "version": "3.10.6 (main, Nov 14 2022, 16:10:14) [GCC 11.3.0]"
  },
  "orig_nbformat": 4,
  "vscode": {
   "interpreter": {
    "hash": "916dbcbb3f70747c44a77c7bcd40155683ae19c65e1c03b4aa3499c5328201f1"
   }
  }
 },
 "nbformat": 4,
 "nbformat_minor": 2
}
