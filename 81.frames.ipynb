{
 "cells": [
  {
   "cell_type": "code",
   "execution_count": null,
   "metadata": {},
   "outputs": [],
   "source": [
    "# frame = a rectangular container to group and hold widgets\n",
    "\n",
    "\n",
    "\n",
    "from tkinter import *\n",
    "\n",
    "\n",
    "\n",
    "window = Tk()\n",
    "\n",
    "\n",
    "\n",
    "frame = Frame(window,bg=\"pink\",bd=5,relief=SUNKEN)\n",
    "\n",
    "frame.pack()\n",
    "\n",
    "\n",
    "\n",
    "Button(frame,text=\"W\",font=(\"Consolas\",25),width=3).pack(side=TOP)\n",
    "\n",
    "Button(frame,text=\"A\",font=(\"Consolas\",25),width=3).pack(side=LEFT)\n",
    "\n",
    "Button(frame,text=\"S\",font=(\"Consolas\",25),width=3).pack(side=LEFT)\n",
    "\n",
    "Button(frame,text=\"D\",font=(\"Consolas\",25),width=3).pack(side=LEFT)\n",
    "\n",
    "\n",
    "\n",
    "window.mainloop()"
   ]
  }
 ],
 "metadata": {
  "language_info": {
   "name": "python"
  },
  "orig_nbformat": 4
 },
 "nbformat": 4,
 "nbformat_minor": 2
}
