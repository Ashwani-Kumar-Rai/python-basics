{
 "cells": [
  {
   "cell_type": "code",
   "execution_count": null,
   "metadata": {},
   "outputs": [],
   "source": [
    "from tkinter import *\n",
    "\n",
    "\n",
    "\n",
    "def create_window():\n",
    "\n",
    "    new_window = Tk()       #Toplevel() = new window 'on top' of other windows, linked to a 'bottom' window\n",
    "\n",
    "                            #Tk() = new independent window\n",
    "\n",
    "    #old_window.destroy()   #close out of old window\n",
    "\n",
    "\n",
    "\n",
    "old_window = Tk()\n",
    "\n",
    "\n",
    "\n",
    "Button(old_window,text=\"create new window\",command=create_window).pack()\n",
    "\n",
    "\n",
    "\n",
    "old_window.mainloop()"
   ]
  }
 ],
 "metadata": {
  "kernelspec": {
   "display_name": "Python 3",
   "language": "python",
   "name": "python3"
  },
  "language_info": {
   "name": "python",
   "version": "3.10.6 (main, Nov 14 2022, 16:10:14) [GCC 11.3.0]"
  },
  "orig_nbformat": 4,
  "vscode": {
   "interpreter": {
    "hash": "916dbcbb3f70747c44a77c7bcd40155683ae19c65e1c03b4aa3499c5328201f1"
   }
  }
 },
 "nbformat": 4,
 "nbformat_minor": 2
}
