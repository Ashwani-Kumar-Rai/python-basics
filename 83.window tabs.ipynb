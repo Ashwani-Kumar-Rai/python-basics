{
 "cells": [
  {
   "cell_type": "code",
   "execution_count": null,
   "metadata": {},
   "outputs": [],
   "source": [
    "from tkinter import *\n",
    "\n",
    "from tkinter import ttk\n",
    "\n",
    "\n",
    "\n",
    "window = Tk()\n",
    "\n",
    "\n",
    "\n",
    "notebook = ttk.Notebook(window) #widget that manages a collection of windows/displays\n",
    "\n",
    "\n",
    "\n",
    "tab1 = Frame(notebook) #new frame for tab 1\n",
    "\n",
    "tab2 = Frame(notebook) #new frame for tab 2\n",
    "\n",
    "\n",
    "\n",
    "notebook.add(tab1,text=\"Tab 1\")\n",
    "\n",
    "notebook.add(tab2,text=\"Tab 2\")\n",
    "\n",
    "notebook.pack(expand=True,fill=\"both\")  #expand = expand to fill any space not otherwise used\n",
    "\n",
    "                                       #fill = fill space on x and y axis\n",
    "\n",
    "Label(tab1,text=\"Hello, this is tab#1\",width=50,height=25).pack()\n",
    "\n",
    "Label(tab2,text=\"Goodbye, this is tab#2\",width=50,height=25).pack()\n",
    "\n",
    "\n",
    "\n",
    "window.mainloop()"
   ]
  }
 ],
 "metadata": {
  "kernelspec": {
   "display_name": "Python 3",
   "language": "python",
   "name": "python3"
  },
  "language_info": {
   "name": "python",
   "version": "3.10.6 (main, Nov 14 2022, 16:10:14) [GCC 11.3.0]"
  },
  "orig_nbformat": 4,
  "vscode": {
   "interpreter": {
    "hash": "916dbcbb3f70747c44a77c7bcd40155683ae19c65e1c03b4aa3499c5328201f1"
   }
  }
 },
 "nbformat": 4,
 "nbformat_minor": 2
}
