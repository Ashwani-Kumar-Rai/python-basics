{
 "cells": [
  {
   "cell_type": "code",
   "execution_count": null,
   "metadata": {},
   "outputs": [],
   "source": [
    "from tkinter import *\n",
    "\n",
    "#grid() = geometry manager that organizes widgets in a table-like structure in a parent widget\n",
    "\n",
    "window = Tk()\n",
    "\n",
    "titleLabel = Label(window,text=\"Enter your info\",font=(\"Arial\",25)).grid(row=0,column=0,columnspan=2)\n",
    "\n",
    "firstNameLabel = Label(window,text=\"First name: \",width=20,bg=\"red\").grid(row=1,column=0)\n",
    "firstNameEntry = Entry(window).grid(row=1,column=1)\n",
    "\n",
    "lastNameLabel = Label(window,text=\"Last name: \",bg=\"green\").grid(row=2,column=0)\n",
    "lastNameEntry = Entry(window).grid(row=2,column=1)\n",
    "\n",
    "emailLabel = Label(window,text=\"email: \",bg=\"blue\").grid(row=3,column=0)\n",
    "emailEntry = Entry(window).grid(row=3,column=1)\n",
    "\n",
    "submitButton = Button(window,text=\"Submit\").grid(row=4,column=0,columnspan=2)\n",
    "\n",
    "window.mainloop()"
   ]
  }
 ],
 "metadata": {
  "language_info": {
   "name": "python"
  },
  "orig_nbformat": 4
 },
 "nbformat": 4,
 "nbformat_minor": 2
}
