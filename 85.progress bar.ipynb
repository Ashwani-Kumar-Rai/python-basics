{
 "cells": [
  {
   "cell_type": "code",
   "execution_count": null,
   "metadata": {},
   "outputs": [],
   "source": [
    "from tkinter import *\n",
    "\n",
    "from tkinter.ttk import *\n",
    "\n",
    "import time\n",
    "\n",
    "\n",
    "\n",
    "def start():\n",
    "\n",
    "    GB = 100\n",
    "\n",
    "    download = 0\n",
    "\n",
    "    speed = 1\n",
    "\n",
    "    while(download<GB):\n",
    "\n",
    "        time.sleep(0.05)\n",
    "\n",
    "        bar['value']+=(speed/GB)*100\n",
    "\n",
    "        download+=speed\n",
    "\n",
    "        percent.set(str(int((download/GB)*100))+\"%\")\n",
    "\n",
    "        text.set(str(download)+\"/\"+str(GB)+\" GB completed\")\n",
    "\n",
    "        window.update_idletasks()\n",
    "\n",
    "\n",
    "\n",
    "window = Tk()\n",
    "\n",
    "\n",
    "\n",
    "percent = StringVar()\n",
    "\n",
    "text = StringVar()\n",
    "\n",
    "\n",
    "\n",
    "bar = Progressbar(window,orient=HORIZONTAL,length=300)\n",
    "\n",
    "bar.pack(pady=10)\n",
    "\n",
    "\n",
    "\n",
    "percentLabel = Label(window,textvariable=percent).pack()\n",
    "\n",
    "taskLabel = Label(window,textvariable=text).pack()\n",
    "\n",
    "\n",
    "\n",
    "button = Button(window,text=\"download\",command=start).pack()\n",
    "\n",
    "\n",
    "\n",
    "window.mainloop()"
   ]
  }
 ],
 "metadata": {
  "kernelspec": {
   "display_name": "Python 3",
   "language": "python",
   "name": "python3"
  },
  "language_info": {
   "name": "python",
   "version": "3.10.6 (main, Nov 14 2022, 16:10:14) [GCC 11.3.0]"
  },
  "orig_nbformat": 4,
  "vscode": {
   "interpreter": {
    "hash": "916dbcbb3f70747c44a77c7bcd40155683ae19c65e1c03b4aa3499c5328201f1"
   }
  }
 },
 "nbformat": 4,
 "nbformat_minor": 2
}
