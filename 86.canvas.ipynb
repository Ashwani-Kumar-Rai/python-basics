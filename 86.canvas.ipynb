{
 "cells": [
  {
   "cell_type": "code",
   "execution_count": null,
   "metadata": {},
   "outputs": [],
   "source": [
    "# canvas =  widget that is used to draw graphs, plots, images in a window\n",
    "\n",
    "\n",
    "\n",
    "from tkinter import *\n",
    "\n",
    "\n",
    "\n",
    "window = Tk()\n",
    "\n",
    "\n",
    "\n",
    "canvas = Canvas(window,height=500,width=500)\n",
    "\n",
    "#canvas.create_line(0,0,500,500,fill=\"blue\",width=5)\n",
    "\n",
    "#canvas.create_line(0,500,500,0,fill=\"red\",width=5)\n",
    "\n",
    "#canvas.create_rectangle(50,50,250,250,fill=\"purple\")\n",
    "\n",
    "#points = [250,0,500,500,0,500]\n",
    "\n",
    "#canvas.create_polygon(points,fill=\"yellow\",outline=\"black\",width=5)\n",
    "\n",
    "#canvas.create_arc(0,0,500,500,style=PIESLICE,start=270,width=5)\n",
    "\n",
    "canvas.create_arc(0,0,500,500,fill=\"red\",extent=180,width=10)\n",
    "\n",
    "canvas.create_arc(0,0,500,500,fill=\"white\",extent=180,start=180,width=10)\n",
    "\n",
    "canvas.create_oval(190,190,310,310,fill=\"white\",width=10)\n",
    "\n",
    "canvas.pack()\n",
    "\n",
    "\n",
    "\n",
    "window.mainloop()"
   ]
  }
 ],
 "metadata": {
  "kernelspec": {
   "display_name": "Python 3",
   "language": "python",
   "name": "python3"
  },
  "language_info": {
   "name": "python",
   "version": "3.10.6 (main, Nov 14 2022, 16:10:14) [GCC 11.3.0]"
  },
  "orig_nbformat": 4,
  "vscode": {
   "interpreter": {
    "hash": "916dbcbb3f70747c44a77c7bcd40155683ae19c65e1c03b4aa3499c5328201f1"
   }
  }
 },
 "nbformat": 4,
 "nbformat_minor": 2
}
