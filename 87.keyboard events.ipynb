{
 "cells": [
  {
   "cell_type": "code",
   "execution_count": null,
   "metadata": {},
   "outputs": [],
   "source": [
    "from tkinter import *\n",
    "\n",
    "\n",
    "\n",
    "def doSomething(event):\n",
    "\n",
    "    #print(\"You pressed: \" + event.keysym)\n",
    "\n",
    "    label.config(text=event.keysym)\n",
    "\n",
    "\n",
    "\n",
    "window = Tk()\n",
    "\n",
    "\n",
    "\n",
    "window.bind(\"<Key>\",doSomething)\n",
    "\n",
    "\n",
    "\n",
    "label = Label(window,font=(\"Helvetica\",100))\n",
    "\n",
    "label.pack()\n",
    "\n",
    "\n",
    "\n",
    "window.mainloop()"
   ]
  }
 ],
 "metadata": {
  "kernelspec": {
   "display_name": "Python 3",
   "language": "python",
   "name": "python3"
  },
  "language_info": {
   "name": "python",
   "version": "3.10.6 (main, Nov 14 2022, 16:10:14) [GCC 11.3.0]"
  },
  "orig_nbformat": 4,
  "vscode": {
   "interpreter": {
    "hash": "916dbcbb3f70747c44a77c7bcd40155683ae19c65e1c03b4aa3499c5328201f1"
   }
  }
 },
 "nbformat": 4,
 "nbformat_minor": 2
}
