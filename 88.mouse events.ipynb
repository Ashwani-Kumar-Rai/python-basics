{
 "cells": [
  {
   "cell_type": "code",
   "execution_count": null,
   "metadata": {},
   "outputs": [],
   "source": [
    "from tkinter import *\n",
    "\n",
    "\n",
    "\n",
    "def doSomething(event):\n",
    "\n",
    "    print(\"Mouse coordinates: \" + str(event.x)+\",\"+str(event.y))\n",
    "\n",
    "\n",
    "\n",
    "window = Tk()\n",
    "\n",
    "\n",
    "\n",
    "window.bind(\"<Button-1>\",doSomething) #left mouse click\n",
    "\n",
    "#window.bind(\"<Button-2>\",doSomething) #scroll wheel\n",
    "\n",
    "#window.bind(\"<Button-3>\",doSomething) #right mouse click\n",
    "\n",
    "#window.bind(\"<ButtonRelease>\",doSomething)#mousebutton release\n",
    "#window.bind(\"<Enter>\",doSomething) #enter the window\n",
    "\n",
    "#window.bind(\"<Leave>\",doSomething) #leave the window\n",
    "\n",
    "#window.bind(\"<Motion>\",doSomething) #Where the mouse moved\n",
    "\n",
    "window.mainloop()"
   ]
  }
 ],
 "metadata": {
  "language_info": {
   "name": "python"
  },
  "orig_nbformat": 4
 },
 "nbformat": 4,
 "nbformat_minor": 2
}
