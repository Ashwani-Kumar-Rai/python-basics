{
 "cells": [
  {
   "cell_type": "code",
   "execution_count": 2,
   "metadata": {},
   "outputs": [
    {
     "name": "stdout",
     "output_type": "stream",
     "text": [
      "you are an adult\n"
     ]
    }
   ],
   "source": [
    "# if statements = a block of code that will execute if the condition is true\n",
    "\n",
    "age = int(input(\" Enter age ?: \")) # this will return string thus we want to cast it into int\n",
    "\n",
    "if age>18:\n",
    "    print(\"you are an adult\")\n",
    "else :\n",
    "    print(\"you are a child\")    \n",
    " "
   ]
  },
  {
   "cell_type": "code",
   "execution_count": 3,
   "metadata": {},
   "outputs": [
    {
     "name": "stdout",
     "output_type": "stream",
     "text": [
      "you are an adult\n"
     ]
    }
   ],
   "source": [
    "# code execute line by line we first check our if statement ,then elif, then else statement\n",
    "\n",
    "age = int(input(\" Enter age ?: \"))\n",
    "\n",
    "if age>18:\n",
    "    print(\"you are an adult\")\n",
    "elif age==100:\n",
    "    print(\"you are 100 year old\")\n",
    "else :\n",
    "    print(\"you are a child\")  \n"
   ]
  }
 ],
 "metadata": {
  "kernelspec": {
   "display_name": "Python 3",
   "language": "python",
   "name": "python3"
  },
  "language_info": {
   "codemirror_mode": {
    "name": "ipython",
    "version": 3
   },
   "file_extension": ".py",
   "mimetype": "text/x-python",
   "name": "python",
   "nbconvert_exporter": "python",
   "pygments_lexer": "ipython3",
   "version": "3.10.6 (main, Nov 14 2022, 16:10:14) [GCC 11.3.0]"
  },
  "orig_nbformat": 4,
  "vscode": {
   "interpreter": {
    "hash": "916dbcbb3f70747c44a77c7bcd40155683ae19c65e1c03b4aa3499c5328201f1"
   }
  }
 },
 "nbformat": 4,
 "nbformat_minor": 2
}
