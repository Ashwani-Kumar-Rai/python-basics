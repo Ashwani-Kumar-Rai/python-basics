{
 "cells": [
  {
   "cell_type": "code",
   "execution_count": null,
   "metadata": {},
   "outputs": [],
   "source": [
    "from tkinter import *\n",
    "from time import *\n",
    "\n",
    "def update():\n",
    "    time_string = strftime(\"%I:%M:%S %p\")\n",
    "    time_label.config(text=time_string)\n",
    "\n",
    "    day_string = strftime(\"%A\")\n",
    "    day_label.config(text=day_string)\n",
    "\n",
    "    date_string = strftime(\"%B %d, %Y\")\n",
    "    date_label.config(text=date_string)\n",
    "\n",
    "    window.after(1000,update)\n",
    "\n",
    "\n",
    "window = Tk()\n",
    "\n",
    "time_label = Label(window,font=(\"Arial\",50),fg=\"#00FF00\",bg=\"black\")\n",
    "time_label.pack()\n",
    "\n",
    "day_label = Label(window,font=(\"Ink Free\",25,\"bold\"))\n",
    "day_label.pack()\n",
    "\n",
    "date_label = Label(window,font=(\"Ink Free\",30))\n",
    "date_label.pack()\n",
    "\n",
    "update()\n",
    "\n",
    "window.mainloop()"
   ]
  }
 ],
 "metadata": {
  "kernelspec": {
   "display_name": "Python 3",
   "language": "python",
   "name": "python3"
  },
  "language_info": {
   "name": "python",
   "version": "3.10.6 (main, Nov 14 2022, 16:10:14) [GCC 11.3.0]"
  },
  "orig_nbformat": 4,
  "vscode": {
   "interpreter": {
    "hash": "916dbcbb3f70747c44a77c7bcd40155683ae19c65e1c03b4aa3499c5328201f1"
   }
  }
 },
 "nbformat": 4,
 "nbformat_minor": 2
}
