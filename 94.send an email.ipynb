{
 "cells": [
  {
   "cell_type": "code",
   "execution_count": null,
   "metadata": {},
   "outputs": [],
   "source": [
    "# ****************************************************************\n",
    "# Python email\n",
    "# ****************************************************************\n",
    "import smtplib\n",
    "\n",
    "sender = \"sender@gmail.com\"\n",
    "receiver = \"receiver@gmail.com\"\n",
    "password = \"password123\"\n",
    "subject = \"Python email test\"\n",
    "body = \"I wrote an email! :D\"\n",
    "\n",
    "# header\n",
    "message = f\"\"\"From: Snoop Dogg{sender}\n",
    "To: Nicholas Cage{receiver}\n",
    "Subject: {subject}\\n\n",
    "{body}\n",
    "\"\"\"\n",
    "\n",
    "server = smtplib.SMTP(\"smtp.gmail.com\", 587)\n",
    "server.starttls()\n",
    "\n",
    "try:\n",
    "    server.login(sender,password)\n",
    "    print(\"Logged in...\")\n",
    "    server.sendmail(sender, receiver, message)\n",
    "    print(\"Email has been sent!\")\n",
    "\n",
    "except smtplib.SMTPAuthenticationError:\n",
    "    print(\"unable to sign in\")\n",
    "    \n",
    "# ****************************************************************\n"
   ]
  }
 ],
 "metadata": {
  "kernelspec": {
   "display_name": "Python 3",
   "language": "python",
   "name": "python3"
  },
  "language_info": {
   "name": "python",
   "version": "3.10.6 (main, Nov 14 2022, 16:10:14) [GCC 11.3.0]"
  },
  "orig_nbformat": 4,
  "vscode": {
   "interpreter": {
    "hash": "916dbcbb3f70747c44a77c7bcd40155683ae19c65e1c03b4aa3499c5328201f1"
   }
  }
 },
 "nbformat": 4,
 "nbformat_minor": 2
}
