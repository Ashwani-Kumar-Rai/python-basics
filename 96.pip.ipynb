{
 "cells": [
  {
   "cell_type": "code",
   "execution_count": null,
   "metadata": {},
   "outputs": [],
   "source": [
    "# ****************************************************************\n",
    "# Python pip\n",
    "# ****************************************************************\n",
    "#       pip = package manager for packages and modules from Python Package Index\n",
    "#\n",
    "#       included for Python versions 3.4+\n",
    "#       open command prompt\n",
    "#\n",
    "#       help:                                          pip\n",
    "#       check:                                       pip --version\n",
    "#       update:                                     pip install --upgrade pip\n",
    "#       installed packages:                pip list\n",
    "#       check outdated packages:    pip list --outdated\n",
    "#       update a package:                  pip install \"package name\" --upgrade\n",
    "#       install a package:                    pip install \"package name\"\n",
    "# ****************************************************************"
   ]
  }
 ],
 "metadata": {
  "kernelspec": {
   "display_name": "Python 3",
   "language": "python",
   "name": "python3"
  },
  "language_info": {
   "name": "python",
   "version": "3.10.6 (main, Nov 14 2022, 16:10:14) [GCC 11.3.0]"
  },
  "orig_nbformat": 4,
  "vscode": {
   "interpreter": {
    "hash": "916dbcbb3f70747c44a77c7bcd40155683ae19c65e1c03b4aa3499c5328201f1"
   }
  }
 },
 "nbformat": 4,
 "nbformat_minor": 2
}
