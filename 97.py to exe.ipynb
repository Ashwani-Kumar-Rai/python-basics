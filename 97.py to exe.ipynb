{
 "cells": [
  {
   "cell_type": "code",
   "execution_count": null,
   "metadata": {},
   "outputs": [],
   "source": [
    "# ***********************************************************\n",
    "# (Windows Defender may prevent you from running)\n",
    "# (make sure pip and pyinstaller are installed/updated)\n",
    "\n",
    "# 1. cd to directory that contains your .py file\n",
    "# 2. pyinstaller ...\n",
    "#   -F   (all in 1 file)\n",
    "#   -w   (removes terminal window)\n",
    "#   -i icon.ico  (adds custom icon to .exe)\n",
    "#   clock.py  (name of your main python file)\n",
    "\n",
    "# 3. exe is located in the dist folder\n",
    "# ***********************************************************"
   ]
  }
 ],
 "metadata": {
  "kernelspec": {
   "display_name": "Python 3",
   "language": "python",
   "name": "python3"
  },
  "language_info": {
   "name": "python",
   "version": "3.10.6 (main, Nov 14 2022, 16:10:14) [GCC 11.3.0]"
  },
  "orig_nbformat": 4,
  "vscode": {
   "interpreter": {
    "hash": "916dbcbb3f70747c44a77c7bcd40155683ae19c65e1c03b4aa3499c5328201f1"
   }
  }
 },
 "nbformat": 4,
 "nbformat_minor": 2
}
